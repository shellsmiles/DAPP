{
 "cells": [
  {
   "cell_type": "markdown",
   "metadata": {},
   "source": [
    "# <u>Group Project: Kickstarter Campaign</u>\n",
    "\n",
    "Kickstarter is a company that provides the space for independent artists, creative, innovators, and entrepreneurs to bring their unique projects to life. Kickstarter allows anyone to financially support the project through an online pledging system - this means; anyone can pledge a specific amount of money towards the funding goal of the project. Kickstarter projects (also called campaigns) are all-or-nothing -- meaning, if the funding goal isn't met 100% (or exceeded), the project campaign fails and no funding is provided. The stakes are high - but what is it about certain campaigns that make them succeed while others fail? \n",
    "\n",
    "You have joined the marketing team for Kickstarter and you are tasked with exploring the features of several campaigns over the past few years. You are responsible for looking at this dataset and pulling out key insights about the characteristics of Kickstarter campaigns that make them more likely to succeed or fail. The marketing team at Kickstarter has a limited amount of funds to devote to highlighting specific projects, and they want to highlight projects that have the best chance of succeeding (i.e. meeting the funding goal). Can you help them determine who that might be?\n",
    "\n",
    "Complete the steps below to take a dataset from inception to insights, for the purpose of answering the following two questions:\n",
    "\n",
    "    1. What kinds of projects should the Kickstarter Marking Team focus their attention on?\n",
    "    2. Why should the Marketing Team focus their attention in that direction?\n",
    "\n",
    "After you have combed through the data, your group will put together a presentation (including visualizations), that clearly answers the two questions above. The Kickstarter dataset is posted to Canvas. Complete the code in the notebook below to complete the project. <b> You are NOT restricted to the steps laid out in this notebook to complete your project, You can conduct additional analyses or create additional visualizations. This notebook is everything you need to cover, but feel free to expand on these steps! This includes completing regression analyses with the dataset.</b>"
   ]
  },
  {
   "cell_type": "markdown",
   "metadata": {},
   "source": [
    "## <font color=red>Part 1: Domain Knowledge</font>\n",
    "\n",
    "Before you begin looking at the data, you need to expand your knowledge of the subject matter. Start by visiting www.kickstarter.com and read all you can about the company. What is the objective of the company? How does it work? What does the project timeline look like? You should research the company until you feel comfortable speaking about the basics of Kickstarter projects. Use the space below (double-click the cell to activate) to write a brief paragraph about what you learned about Kickstarter. \n",
    "\n",
    "### <font color=red>Questions to Answer</font>\n",
    "1. What is Kickstarter?\n",
    "2. What is the purpose of Kickstarter?\n",
    "3. Who are the \"backers\" of a Kickstarter campaign?\n",
    "4. How is success determined for a project campaign?\n",
    "\n",
    "****\n",
    "\n",
    "### <font color=red>KICKSTARTER INFORMATION</font>\n",
    "\n",
    "#### Start your paragraph here . . . Be sure to answer all questions in this space!"
   ]
  },
  {
   "cell_type": "markdown",
   "metadata": {},
   "source": [
    "## <font color=darkorange>Part 2: Data Import and Cleaning</font>\n",
    "\n",
    "Now that you are familiar with where the data is coming from, you are ready to start examining the data. The Kickstarter Dataset is a collection of project campaign information from 2016. Data includes information about the project name, length, country of origin, goal, and the amount of money raised, etc. If you open the Kickstarter Dataset in excel, the second tab provides descriptions of each of the columns/variables. Import the dataset into this notebook and follow the steps below to gather information about the data and to clean up the dataset. Use the space below (double-click the cell to activate) to write a brief paragraph describing the dataset and the steps you took while cleaning the data. \n",
    "\n",
    "### <font color=darkorange>Questions to Answer</font>\n",
    "1. How many columns are in the dataset? How many rows?\n",
    "2. What type of variables (continuous, categorical) make up this dataset?\n",
    "3. Which variables have missing values? \n",
    "4. How did you handle the missing data in the dataset?\n",
    "5. How many rows are in your dataset after handling missing data?\n",
    "6. Are there any odd or inappropriate values within a column that don't make sense? If so, what are they?\n",
    "7. What percentage of the each project was funded? In other words, how close were they to reaching the goal? You will need to create a new variable to answer this question.\n",
    "\n",
    "***\n",
    "\n",
    "### <font color=darkorange>DATASET INFORMATION AND CLEANING</font>\n",
    "\n",
    "#### Start your paragraph here . . . Be sure to answer all questions in this space!"
   ]
  },
  {
   "cell_type": "code",
   "execution_count": null,
   "metadata": {},
   "outputs": [],
   "source": [
    "## import libraries and import Kickstarter dataset\n",
    "import pandas as pd\n",
    "import numpy as np\n",
    "\n",
    "## this is a large dataset, we want to see all rows \n",
    "pd.set_option('display.max_rows', None)\n",
    "\n",
    "\n",
    "## this is a very large dataset, be patient, it may take a while to import!!\n",
    "ks= pd.read_excel(\"Kickstarter_Dataset.xlsx\")\n",
    "ks.head()"
   ]
  },
  {
   "cell_type": "code",
   "execution_count": null,
   "metadata": {},
   "outputs": [],
   "source": [
    "## determine dataset shape (number of rows and columns)\n",
    "\n",
    "ks.shape"
   ]
  },
  {
   "cell_type": "code",
   "execution_count": null,
   "metadata": {},
   "outputs": [],
   "source": [
    "## determine dataset features (info) and data types\n",
    "\n",
    "ks.info()"
   ]
  },
  {
   "cell_type": "code",
   "execution_count": null,
   "metadata": {},
   "outputs": [],
   "source": [
    "## determine which variables have missing data \n",
    "\n",
    "ks.isnull().sum()"
   ]
  },
  {
   "cell_type": "code",
   "execution_count": null,
   "metadata": {},
   "outputs": [],
   "source": [
    "## handling missing data\n",
    "\n",
    "## fill all the missing values in \"name\" with \"Unknown Project Name\"\n",
    "\n",
    "ks[\"name\"].fillna(\"Unknown Project Nam\", inplace= True)\n",
    "\n",
    "## drop all the rows where \"usd pledged\" is missing\n",
    "ks.dropna (subset= [\"usd pledged\"],inplace= True)\n",
    "ks.info()"
   ]
  },
  {
   "cell_type": "code",
   "execution_count": null,
   "metadata": {},
   "outputs": [],
   "source": [
    "## inappropriate values in categorical variables; check value counts\n",
    "ks.describe()\n"
   ]
  },
  {
   "cell_type": "code",
   "execution_count": null,
   "metadata": {},
   "outputs": [],
   "source": [
    "## drop unneeded columns (project ID, name, pledged, launched, deadline)\n",
    "# you will use usd pledged from now on\n",
    "\n",
    "ks.drop(columns= [ \"ID\",\"name\",\"pledged\",\"launched\",\"deadline\"], inplace= True)"
   ]
  },
  {
   "cell_type": "code",
   "execution_count": null,
   "metadata": {},
   "outputs": [],
   "source": [
    "# create a new column\n",
    "## percentage of project that was funded - how close were they to reaching the goal?\n",
    "\n",
    "ks[\"pct_funded\"] = (ks[\"usd pledged\"]/ks[\"goal\"])*100\n",
    "ks.head()"
   ]
  },
  {
   "cell_type": "markdown",
   "metadata": {},
   "source": [
    "## <font color=#EAC117>Part 3: Exploratory Analysis</font>\n",
    "\n",
    "With a clean dataset, you are now ready to start exploring the variables in your dataset. Don't worry about how your variables relate to each other - we will cover that in the next section. For now, it's more important that you get a clear sense of the variable characteristics on their own. Follow the steps below to explore all of the variables within your dataset and preform descriptive statistics. In addition to the descriptive statistics, you are tasked with creating a visualizations related to your results. Stylistic choices related to the visualizations is up to your group. Use the space below (double-click the cell to activate) to write a brief paragraph describing the steps you took to explore the data. \n",
    "\n",
    "### <font color=#EAC117>Questions to Answer</font>\n",
    "1.\tWhat is the average (mean) for the following variables: goal, usd pledged, backers, and length? \n",
    "2.\tWhat is the maximum value, minimum value, and range for the following variables: goal, usd pledged, backers, and length?\n",
    "3.\tWhat is the most common (mode) length for campaign projects?\n",
    "4.\tConsidering the categorical variables, what is the most frequent main category group? How many projects are classified under this category? What is the most frequent sub-category? How many projects are classified under this category? \n",
    "5.\tConsidering the categorical variables, what is the least frequent main category group? How many projects are classified under this category? What is the least frequent sub-category? How many projects are classified under this category? \n",
    "6.\tWhich country has started the most Kickstarter campaigns?\n",
    "7.\tHow many projects have failed? How many projects have succeeded?\n",
    "\n",
    "### <font color=#EAC117>Visualizations to Create</font> \n",
    "* Number of Projects by Main Category\n",
    "* Number of projects by State (outcome)\n",
    "* Number of projects from each country\n",
    "* Number of successful projects and failed projects by Main Category\n",
    "\n",
    "***\n",
    "\n",
    "### <font color=#EAC117>EXPLORATORY DATA ANALYSIS</font>\n",
    "\n",
    "#### Start your paragraph here . . . Be sure to answer all questions in this space!"
   ]
  },
  {
   "cell_type": "code",
   "execution_count": null,
   "metadata": {},
   "outputs": [],
   "source": [
    "## output descriptive statistics for numeric variables in the dataset\n",
    "ks[\"goal\"].mean()"
   ]
  },
  {
   "cell_type": "code",
   "execution_count": null,
   "metadata": {},
   "outputs": [],
   "source": [
    "ks[\"usd pledged\"].mean()"
   ]
  },
  {
   "cell_type": "code",
   "execution_count": null,
   "metadata": {},
   "outputs": [],
   "source": [
    "ks[\"backers\"].mean()"
   ]
  },
  {
   "cell_type": "code",
   "execution_count": null,
   "metadata": {},
   "outputs": [],
   "source": [
    "ks[\"length_days\"].mean()"
   ]
  },
  {
   "cell_type": "code",
   "execution_count": null,
   "metadata": {},
   "outputs": [],
   "source": [
    "## calculate the range for all numeric variables\n",
    "ks.max()-ks.min()"
   ]
  },
  {
   "cell_type": "code",
   "execution_count": null,
   "metadata": {},
   "outputs": [],
   "source": [
    "## frequency of categorical variable groups\n",
    "\n",
    "ks[\"main_category\"].value_counts()"
   ]
  },
  {
   "cell_type": "code",
   "execution_count": null,
   "metadata": {},
   "outputs": [],
   "source": [
    "ks[\"category\"].value_counts()"
   ]
  },
  {
   "cell_type": "code",
   "execution_count": null,
   "metadata": {},
   "outputs": [],
   "source": [
    "ks[\"country\"].value_counts()"
   ]
  },
  {
   "cell_type": "code",
   "execution_count": null,
   "metadata": {},
   "outputs": [],
   "source": []
  },
  {
   "cell_type": "code",
   "execution_count": null,
   "metadata": {},
   "outputs": [],
   "source": []
  },
  {
   "cell_type": "markdown",
   "metadata": {},
   "source": [
    "## <font color=#6AA121>Part 4: Variable Relationships</font>\n",
    "\n",
    "It's time to explore the relationships between variables and answer some of the critical questions for the project. Your dependent/outcome variable is <b>STATE</b> - this is the variable that captures if the project was successful or not. In addition to exploring the relationships between your other independent variables, you want to pay close attention to the relationship between your independent variables and state. Follow the steps below to explore the relationships between your variables. In addition, you are tasked with creating visualizations related to your results. Stylistic choices related to the visualizations is up to your group. Use the space below (double-click the cell to activate) to write a brief paragraph describing the steps you took to determine variable relationships. \n",
    "\n",
    "### <font color=#6AA121>Questions to Answer</font>\n",
    "1.\tHow correlated are the numeric variables within this dataset? Create a correlation matrix to find out. Is anything highly correlated?\n",
    "2.\tWhat is the average amount of money pledged across each of the main categories? What about across the following: sub-category, country, currency, and state? Which main category is the most profitable? \n",
    "3.\tWhat is the average number of backers across each of the main categories? What about across the following: sub-category, country, currency, and state? Which main category is the most popular?\n",
    "4.\tWhat percentage of projects succeed and fail across each of the main categories?\n",
    "5.\tWhich of the main categories have the highest success rate (top 3)? Which of the sub-categories have the highest success rate (top 3)?\n",
    "6.\tWhat is the average duration of a campaign for projects that succeed? What is the average duration for projects that fail?\n",
    "7.  What is the average funding goal of a campaign for projects that succeed? What is the average funding goal for projects that fail?\n",
    "\n",
    "\n",
    "### <font color=#6AA121>Visualizations to Create</font> \n",
    "* Average Pledge by Main Category\n",
    "* Average Num Backers by Main Category\n",
    "* Average Pledge by State\n",
    "* Average Num Backers by State\n",
    "* Average Funding Goal by Main Category\n",
    "* Average Funding Goal by State\n",
    "* Average Percentage of Funding Collected by Main Category\n",
    "\n",
    "***\n",
    "\n",
    "### <font color=#6AA121>RELATIONSHIPS BETWEEN VARIABLES</font>\n",
    "\n",
    "#### Start your paragraph here . . . Be sure to answer all questions in this space!"
   ]
  },
  {
   "cell_type": "code",
   "execution_count": null,
   "metadata": {},
   "outputs": [],
   "source": [
    "## create a correlation matrix for the continuous variables\n",
    "\n"
   ]
  },
  {
   "cell_type": "code",
   "execution_count": null,
   "metadata": {},
   "outputs": [],
   "source": [
    "## average pledge across categoricial variables (groupby)\n"
   ]
  },
  {
   "cell_type": "code",
   "execution_count": null,
   "metadata": {},
   "outputs": [],
   "source": [
    "## average number of backers across categorical variables (groupby)\n"
   ]
  },
  {
   "cell_type": "code",
   "execution_count": null,
   "metadata": {},
   "outputs": [],
   "source": [
    "## averages of all numeric variables grouped by state (groupby)\n"
   ]
  },
  {
   "cell_type": "code",
   "execution_count": null,
   "metadata": {},
   "outputs": [],
   "source": [
    "# average number of backers and pledges by main category \n",
    "# include the variable \"pct_funded\" to get a better picture of the projects that met/exceeded their goal\n"
   ]
  },
  {
   "cell_type": "code",
   "execution_count": null,
   "metadata": {},
   "outputs": [],
   "source": [
    "# average number of backers and pledges by main category and subcategory \n"
   ]
  },
  {
   "cell_type": "code",
   "execution_count": null,
   "metadata": {},
   "outputs": [],
   "source": [
    "## state by campaign main category (crosstab)\n",
    "# hint: list 'state' second for an easier to read table\n",
    "\n",
    "\n",
    "# HINT: it's easier to understand the differences between groups by looking at percentages"
   ]
  },
  {
   "cell_type": "code",
   "execution_count": null,
   "metadata": {},
   "outputs": [],
   "source": [
    "## state by campaign sub-category (crosstab)\n",
    "# hint: list 'state' second for an easier to read table\n",
    "\n",
    "\n",
    "\n",
    "# HINT: it's easier to understand the differences between groups by looking at percentages"
   ]
  },
  {
   "cell_type": "markdown",
   "metadata": {},
   "source": [
    "## <font color=#306EFF>Part 5: Group Presentation</font>\n",
    "\n",
    "By now, your group should feel very comfortable with the aspects of the Kickstarter dataset. You should have a firm understanding of what Kickstarter is, what the dataset contains, the characteristics of each variable, how the variables interact with each other, and finally, which variables influence the outcome of the Kickstarter campaign. Can you put all this information together to tell a story about the data? Your presentation should include visualizations and clear answers to the two primary questions:\n",
    "\n",
    "    1. What kinds of projects should the Kickstarter Marking Team focus their attention on?\n",
    "    2. Why should the Marketing Team focus their attention in that direction?\n",
    "\n",
    "In addition to these two questions, your presentation should cover the additional questions listed below. These questions should be easy to answer using the information you discovered above. When you are done, submit your completed notebook to me.   \n",
    "\n",
    "### <font color=#306EFF>Questions to Answer</font>\n",
    "1.\tWhat main category is the most profitable (highest amount of money pledged)? \n",
    "2.\tWhich main category is the most popular (highest number of backers)?\n",
    "3.\tWhich sub-categories are the most profitable and popular (top 3)?\n",
    "4.\tWhat are some of the characteristics of a successful Kickstarter campaign? \n",
    "5.\tHow does the success or failure of Kickstarter campaigns differ between main category, sub-category, country, and length of campaign? Please mention only the most notable – you do not need to detail the success/failure rate for each category/sub-category? \n",
    "\n",
    "***\n",
    "\n",
    "### <font color=#306EFF>TIPS FOR A GREAT PRESENTATION</font>\n",
    "\n",
    "* Start with the most important information (answers to the two questions above), and work backwards. The entire class will be working with the same dataset, therefore, we don't need to know the details of all your coding -- we just want to know what findings are most important to the questions. \n",
    "* Create clear visualizations. Make sure your audience can quickly and easily understand what your visualizations are showing. While you have a lot of options for how to style your visualizations, don't go overboard! \n",
    "* Make sure everyone understands what the visualization is showing; it should not have to stand on its own. When you present a visualization, you should be able to discuss what it means and what the significance is. \n",
    "* Use a single presentation format -- you can create a PowerPoint presentation or organize your notebook in a way that is easy to follow; reguardless of what your group puts together, you should use only ONE format. "
   ]
  },
  {
   "cell_type": "code",
   "execution_count": null,
   "metadata": {},
   "outputs": [],
   "source": []
  }
 ],
 "metadata": {
  "kernelspec": {
   "display_name": "Python 3",
   "language": "python",
   "name": "python3"
  },
  "language_info": {
   "codemirror_mode": {
    "name": "ipython",
    "version": 3
   },
   "file_extension": ".py",
   "mimetype": "text/x-python",
   "name": "python",
   "nbconvert_exporter": "python",
   "pygments_lexer": "ipython3",
   "version": "3.8.8"
  }
 },
 "nbformat": 4,
 "nbformat_minor": 4
}
