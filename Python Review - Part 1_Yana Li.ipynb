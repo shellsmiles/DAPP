{
 "cells": [
  {
   "cell_type": "markdown",
   "id": "d50a2161",
   "metadata": {},
   "source": [
    "# Python Review #1\n",
    "\n",
    "Using what you learned in the modules, answer the questions below. Take your time and use all the information in the modules as your guide and resource. This isn't about memorization - this is about practicing skills! Good Luck!"
   ]
  },
  {
   "cell_type": "markdown",
   "id": "25a8ea5e",
   "metadata": {},
   "source": [
    "## Module 1 Review"
   ]
  },
  {
   "cell_type": "markdown",
   "id": "68af75a9",
   "metadata": {},
   "source": [
    "#### COMMENTS\n",
    "\n",
    "Comments are not executed with the rest of the code when you run the cell. These are notes that give context to the code. "
   ]
  },
  {
   "cell_type": "markdown",
   "id": "03b7555a",
   "metadata": {},
   "source": [
    "1. Open any book, document, brochure, email around you. Take the first two sentences you find. Write the two sentences in a cell below. Assign one sentence to a variable name (save it as a string) and make the other sentence a comment. Run the cell. \n",
    "2. Switch the sentences (the first sentence is now a comment, the second sentence is now the string) and re-run the cell."
   ]
  },
  {
   "cell_type": "code",
   "execution_count": 2,
   "id": "588eaf65",
   "metadata": {},
   "outputs": [],
   "source": [
    "#sentence1= 'Get ahead of the gift rush with 10% Cash Back'"
   ]
  },
  {
   "cell_type": "code",
   "execution_count": 9,
   "id": "bba581f5",
   "metadata": {},
   "outputs": [],
   "source": [
    "sentence2= 'Open now for 10% Cash Back'"
   ]
  },
  {
   "cell_type": "code",
   "execution_count": 10,
   "id": "3254aa24",
   "metadata": {},
   "outputs": [
    {
     "name": "stdout",
     "output_type": "stream",
     "text": [
      "Open now for 10% Cash Back\n"
     ]
    }
   ],
   "source": [
    "print(sentence2)"
   ]
  },
  {
   "cell_type": "markdown",
   "id": "17740879",
   "metadata": {},
   "source": [
    "#### DATA TYPES \n",
    "\n",
    "There are three data types that we will use continuously - integer, float, string. Each cell below includes one of these three data types. Using a comment, write the type of data in each cell next to the value. "
   ]
  },
  {
   "cell_type": "code",
   "execution_count": null,
   "id": "5a62d75a",
   "metadata": {},
   "outputs": [],
   "source": [
    "\"Hello\"  # string"
   ]
  },
  {
   "cell_type": "code",
   "execution_count": null,
   "id": "450288c5",
   "metadata": {},
   "outputs": [],
   "source": [
    "156      # integer"
   ]
  },
  {
   "cell_type": "code",
   "execution_count": null,
   "id": "88978aba",
   "metadata": {},
   "outputs": [],
   "source": [
    "\"W45\"    # string"
   ]
  },
  {
   "cell_type": "code",
   "execution_count": null,
   "id": "3377e32b",
   "metadata": {},
   "outputs": [],
   "source": [
    "12.567   # float"
   ]
  },
  {
   "cell_type": "code",
   "execution_count": null,
   "id": "a26454e1",
   "metadata": {},
   "outputs": [],
   "source": [
    "\"198 Spring Street, San Deigo, CA\"    # string"
   ]
  },
  {
   "cell_type": "code",
   "execution_count": null,
   "id": "e3739e97",
   "metadata": {},
   "outputs": [],
   "source": [
    "1.87     # float"
   ]
  },
  {
   "cell_type": "code",
   "execution_count": null,
   "id": "6d760ee7",
   "metadata": {},
   "outputs": [],
   "source": [
    "0.00000435      # float"
   ]
  },
  {
   "cell_type": "code",
   "execution_count": null,
   "id": "64358c93",
   "metadata": {},
   "outputs": [],
   "source": [
    "\"628\"           # string"
   ]
  },
  {
   "cell_type": "code",
   "execution_count": null,
   "id": "835878ba",
   "metadata": {},
   "outputs": [],
   "source": [
    "1.111111114     # float"
   ]
  },
  {
   "cell_type": "code",
   "execution_count": null,
   "id": "14b73147",
   "metadata": {},
   "outputs": [],
   "source": [
    "4560886543      # integer"
   ]
  },
  {
   "cell_type": "markdown",
   "id": "08e1fea6",
   "metadata": {},
   "source": [
    "#### VARIABLES\n",
    "\n",
    "Variables hold information or a data value. To assign a value to a variable, use a single \"=\". Variables should be given meaningful names, can start with a letter or underscore (no numbers), and should follow <b>CamelType</b> or <b>snake_type</b> formatting. \n",
    "\n",
    "1. Write your birthday in longform (Month Day, Year) and save the value to a variable. Choose an appropriate name. \n",
    "2. Write the name of your favorite book. Save the value to a variable. Choose an appropriate name. \n",
    "3. Write the number of times you've eaten pizza in the past two weeks (0 can be an answer). Save the value to a variable. Choose an appropriate name. \n",
    "4. Write a float value with at least three digits after the decimal point. Save the value to a variable. Choose an appropriate name.\n",
    "5. Pick two additional sentences from the item referenced in the comments section. Write out the sentences and save them to a variable. Choose an appropriate name."
   ]
  },
  {
   "cell_type": "code",
   "execution_count": 19,
   "id": "062d9d1b",
   "metadata": {},
   "outputs": [],
   "source": [
    "birthday= ' 0101,2021 '"
   ]
  },
  {
   "cell_type": "code",
   "execution_count": 20,
   "id": "e2db48d1",
   "metadata": {},
   "outputs": [],
   "source": [
    "book= 'ABC'"
   ]
  },
  {
   "cell_type": "code",
   "execution_count": 21,
   "id": "9818b7d7",
   "metadata": {},
   "outputs": [],
   "source": [
    "pizzaNum= 2"
   ]
  },
  {
   "cell_type": "code",
   "execution_count": 22,
   "id": "99e6b447",
   "metadata": {},
   "outputs": [],
   "source": [
    "decimalNum= 3.1415"
   ]
  },
  {
   "cell_type": "code",
   "execution_count": 23,
   "id": "5015775c",
   "metadata": {},
   "outputs": [],
   "source": [
    "ads1= 'Your 15% Cash Back exclusive expires soon. '"
   ]
  },
  {
   "cell_type": "code",
   "execution_count": 24,
   "id": "407db6ea",
   "metadata": {},
   "outputs": [],
   "source": [
    "ads2= '10% Cash Back deals are on!'"
   ]
  },
  {
   "cell_type": "markdown",
   "id": "86d96a13",
   "metadata": {},
   "source": [
    "#### PRINT AND TYPE FUNCTIONS\n",
    "\n",
    "The print function is crucial to your python knowledge. The print() function allows you to return a specific item, statement, word, number, etc. It is used to return (print, output, etc) information. Using all the variables you created in the step above, print each one in an individual cell. \n",
    "\n",
    "The type function allows you to return the type of data saved to a specific variable. Use the type() function to determine the type of data stored to each of your variables. "
   ]
  },
  {
   "cell_type": "code",
   "execution_count": 25,
   "id": "987beb96",
   "metadata": {},
   "outputs": [
    {
     "name": "stdout",
     "output_type": "stream",
     "text": [
      " 0101,2021 \n"
     ]
    }
   ],
   "source": [
    "print(birthday)"
   ]
  },
  {
   "cell_type": "code",
   "execution_count": 26,
   "id": "2c082463",
   "metadata": {},
   "outputs": [
    {
     "name": "stdout",
     "output_type": "stream",
     "text": [
      "ABC\n"
     ]
    }
   ],
   "source": [
    "print(book)"
   ]
  },
  {
   "cell_type": "code",
   "execution_count": 27,
   "id": "a9eaa5a2",
   "metadata": {},
   "outputs": [
    {
     "name": "stdout",
     "output_type": "stream",
     "text": [
      "2\n"
     ]
    }
   ],
   "source": [
    "print(pizzaNum)"
   ]
  },
  {
   "cell_type": "code",
   "execution_count": 28,
   "id": "c7b7ab1b",
   "metadata": {},
   "outputs": [
    {
     "name": "stdout",
     "output_type": "stream",
     "text": [
      "3.1415\n"
     ]
    }
   ],
   "source": [
    "print(decimalNum)"
   ]
  },
  {
   "cell_type": "code",
   "execution_count": 29,
   "id": "ecfa1d89",
   "metadata": {},
   "outputs": [
    {
     "name": "stdout",
     "output_type": "stream",
     "text": [
      "Your 15% Cash Back exclusive expires soon. \n"
     ]
    }
   ],
   "source": [
    "print(ads1)"
   ]
  },
  {
   "cell_type": "code",
   "execution_count": 30,
   "id": "6b84259a",
   "metadata": {},
   "outputs": [
    {
     "name": "stdout",
     "output_type": "stream",
     "text": [
      "10% Cash Back deals are on!\n"
     ]
    }
   ],
   "source": [
    "print(ads2)"
   ]
  },
  {
   "cell_type": "markdown",
   "id": "aeae11a2",
   "metadata": {},
   "source": [
    "#### ARITHMETIC OPERATORS\n",
    "\n",
    "Arithmetic operators allow you to do simple math with Python. Operators include: \n",
    "\n",
    "    +  : addition\n",
    "    -  : subtraction\n",
    "    *  : multiplication\n",
    "    /  : division\n",
    "    %  : modulo (finds the remainder of a division)\n",
    "    ** : exponent\n",
    "    // : floor division\n",
    "    \n",
    "In the cells below, insert any of the above operators to complete the equation. Print the result of the equation. "
   ]
  },
  {
   "cell_type": "code",
   "execution_count": 31,
   "id": "39040a42",
   "metadata": {},
   "outputs": [
    {
     "name": "stdout",
     "output_type": "stream",
     "text": [
      "11\n"
     ]
    }
   ],
   "source": [
    "print(9+2)"
   ]
  },
  {
   "cell_type": "code",
   "execution_count": 32,
   "id": "10556873",
   "metadata": {},
   "outputs": [
    {
     "name": "stdout",
     "output_type": "stream",
     "text": [
      "111.0\n"
     ]
    }
   ],
   "source": [
    "print(189.0-78)"
   ]
  },
  {
   "cell_type": "code",
   "execution_count": 33,
   "id": "08146d84",
   "metadata": {},
   "outputs": [
    {
     "name": "stdout",
     "output_type": "stream",
     "text": [
      "6\n"
     ]
    }
   ],
   "source": [
    "print(3*2)"
   ]
  },
  {
   "cell_type": "code",
   "execution_count": 34,
   "id": "f7078161",
   "metadata": {},
   "outputs": [
    {
     "name": "stdout",
     "output_type": "stream",
     "text": [
      "0.375\n"
     ]
    }
   ],
   "source": [
    "print(3/8)"
   ]
  },
  {
   "cell_type": "code",
   "execution_count": 35,
   "id": "dab7ca1c",
   "metadata": {},
   "outputs": [
    {
     "name": "stdout",
     "output_type": "stream",
     "text": [
      "999.0027\n"
     ]
    }
   ],
   "source": [
    "print(999.0027%2736.83)"
   ]
  },
  {
   "cell_type": "code",
   "execution_count": 36,
   "id": "fc2f6a96",
   "metadata": {},
   "outputs": [
    {
     "name": "stdout",
     "output_type": "stream",
     "text": [
      "286296647198568771733609157020113746343214564499561381888\n"
     ]
    }
   ],
   "source": [
    "print(488**21)"
   ]
  },
  {
   "cell_type": "code",
   "execution_count": 37,
   "id": "9a967945",
   "metadata": {},
   "outputs": [
    {
     "name": "stdout",
     "output_type": "stream",
     "text": [
      "1\n"
     ]
    }
   ],
   "source": [
    "print(11// 8)"
   ]
  },
  {
   "cell_type": "code",
   "execution_count": 38,
   "id": "42e5ed80",
   "metadata": {},
   "outputs": [
    {
     "name": "stdout",
     "output_type": "stream",
     "text": [
      "5\n"
     ]
    }
   ],
   "source": [
    "print(45 // 9)"
   ]
  },
  {
   "cell_type": "code",
   "execution_count": 39,
   "id": "49eb7508",
   "metadata": {},
   "outputs": [
    {
     "name": "stdout",
     "output_type": "stream",
     "text": [
      "785\n"
     ]
    }
   ],
   "source": [
    "print(808 -23)"
   ]
  },
  {
   "cell_type": "code",
   "execution_count": 40,
   "id": "f8484957",
   "metadata": {},
   "outputs": [
    {
     "name": "stdout",
     "output_type": "stream",
     "text": [
      "0\n"
     ]
    }
   ],
   "source": [
    "print(4 %1)"
   ]
  },
  {
   "cell_type": "code",
   "execution_count": 41,
   "id": "459eaeb0",
   "metadata": {},
   "outputs": [
    {
     "name": "stdout",
     "output_type": "stream",
     "text": [
      "0\n"
     ]
    }
   ],
   "source": [
    "print(0//28)"
   ]
  },
  {
   "cell_type": "code",
   "execution_count": 42,
   "id": "95bced8c",
   "metadata": {},
   "outputs": [
    {
     "name": "stdout",
     "output_type": "stream",
     "text": [
      "-547\n"
     ]
    }
   ],
   "source": [
    "print(435-982)"
   ]
  },
  {
   "cell_type": "code",
   "execution_count": 43,
   "id": "e8528a78",
   "metadata": {},
   "outputs": [
    {
     "name": "stdout",
     "output_type": "stream",
     "text": [
      "18\n"
     ]
    }
   ],
   "source": [
    "print(6 *3)"
   ]
  },
  {
   "cell_type": "code",
   "execution_count": 44,
   "id": "adf2aa7d",
   "metadata": {},
   "outputs": [
    {
     "name": "stdout",
     "output_type": "stream",
     "text": [
      "0.6666666666666666\n"
     ]
    }
   ],
   "source": [
    "print(1 / 1.5)"
   ]
  },
  {
   "cell_type": "code",
   "execution_count": 45,
   "id": "636e2e43",
   "metadata": {},
   "outputs": [
    {
     "name": "stdout",
     "output_type": "stream",
     "text": [
      "67\n"
     ]
    }
   ],
   "source": [
    "print(65 + 2)"
   ]
  },
  {
   "cell_type": "code",
   "execution_count": 46,
   "id": "a6a68f4d",
   "metadata": {},
   "outputs": [
    {
     "name": "stdout",
     "output_type": "stream",
     "text": [
      "1\n"
     ]
    }
   ],
   "source": [
    "print(10//9)"
   ]
  },
  {
   "cell_type": "code",
   "execution_count": 47,
   "id": "a57f3f9a",
   "metadata": {},
   "outputs": [
    {
     "name": "stdout",
     "output_type": "stream",
     "text": [
      "242\n"
     ]
    }
   ],
   "source": [
    "print(245- 3)"
   ]
  },
  {
   "cell_type": "code",
   "execution_count": 48,
   "id": "84b3d549",
   "metadata": {},
   "outputs": [
    {
     "name": "stdout",
     "output_type": "stream",
     "text": [
      "1\n"
     ]
    }
   ],
   "source": [
    "print(33**0)"
   ]
  },
  {
   "cell_type": "code",
   "execution_count": 49,
   "id": "a58d40d6",
   "metadata": {},
   "outputs": [
    {
     "name": "stdout",
     "output_type": "stream",
     "text": [
      "1\n"
     ]
    }
   ],
   "source": [
    "print(9%2)"
   ]
  },
  {
   "cell_type": "code",
   "execution_count": 50,
   "id": "d0db87ca",
   "metadata": {},
   "outputs": [
    {
     "name": "stdout",
     "output_type": "stream",
     "text": [
      "11\n"
     ]
    }
   ],
   "source": [
    "print(89-78)"
   ]
  },
  {
   "cell_type": "markdown",
   "id": "4847f855",
   "metadata": {},
   "source": [
    "#### COMPOUND OPERATORS\n",
    "\n",
    "Change the value of a variable and re-assign the new value to the same variable. This method saves you a step; all compound operators follow the same pattern:\n",
    "    \n",
    "    variable_a = variable_a + 10 <<<--->>> variable_a += 10\n",
    "    \n",
    "variable_a is now equal to the original value of variable_a plus 10. Compound operators include:\n",
    "\n",
    "    +=  : a = a + b\n",
    "    -=  : a = a - b\n",
    "    *=  : a = a * b\n",
    "    /=  : a = a / b\n",
    "    %=  : a = a % b\n",
    "    **= : a = a ** b\n",
    "    //= : a = a // b\n",
    "    \n",
    "Convert all the equations below to use compound operators. "
   ]
  },
  {
   "cell_type": "code",
   "execution_count": 296,
   "id": "e404834e",
   "metadata": {},
   "outputs": [
    {
     "name": "stdout",
     "output_type": "stream",
     "text": [
      "4\n"
     ]
    }
   ],
   "source": [
    "x = 9\n",
    "x //= 2\n",
    "print(x)"
   ]
  },
  {
   "cell_type": "code",
   "execution_count": 297,
   "id": "822faf79",
   "metadata": {},
   "outputs": [
    {
     "name": "stdout",
     "output_type": "stream",
     "text": [
      "267.0\n"
     ]
    }
   ],
   "source": [
    "x = 189.0\n",
    "x += 78\n",
    "print(x)"
   ]
  },
  {
   "cell_type": "code",
   "execution_count": 298,
   "id": "6258bd09",
   "metadata": {},
   "outputs": [
    {
     "name": "stdout",
     "output_type": "stream",
     "text": [
      "1\n"
     ]
    }
   ],
   "source": [
    "x = 3 \n",
    "x -= 2\n",
    "print(x)"
   ]
  },
  {
   "cell_type": "code",
   "execution_count": 299,
   "id": "4f75b3dd",
   "metadata": {},
   "outputs": [
    {
     "name": "stdout",
     "output_type": "stream",
     "text": [
      "6\n"
     ]
    }
   ],
   "source": [
    "x =5 \n",
    "x += 1\n",
    "print(x)"
   ]
  },
  {
   "cell_type": "code",
   "execution_count": 300,
   "id": "7ccd412b",
   "metadata": {},
   "outputs": [
    {
     "name": "stdout",
     "output_type": "stream",
     "text": [
      "0\n"
     ]
    }
   ],
   "source": [
    "x = 8\n",
    "x *= 0\n",
    "print(x)"
   ]
  },
  {
   "cell_type": "code",
   "execution_count": 301,
   "id": "85927104",
   "metadata": {},
   "outputs": [
    {
     "name": "stdout",
     "output_type": "stream",
     "text": [
      "0\n"
     ]
    }
   ],
   "source": [
    "x = 4 \n",
    "x %= 1\n",
    "print(x)"
   ]
  },
  {
   "cell_type": "code",
   "execution_count": 302,
   "id": "c98f0c5b",
   "metadata": {},
   "outputs": [
    {
     "name": "stdout",
     "output_type": "stream",
     "text": [
      "2\n"
     ]
    }
   ],
   "source": [
    "x = 5 \n",
    "x //= 2\n",
    "print(x)"
   ]
  },
  {
   "cell_type": "code",
   "execution_count": 303,
   "id": "5976228b",
   "metadata": {},
   "outputs": [
    {
     "name": "stdout",
     "output_type": "stream",
     "text": [
      "2.0\n"
     ]
    }
   ],
   "source": [
    "x = 6 \n",
    "x /= 3\n",
    "print(x)"
   ]
  },
  {
   "cell_type": "code",
   "execution_count": 304,
   "id": "42dc1e45",
   "metadata": {},
   "outputs": [
    {
     "name": "stdout",
     "output_type": "stream",
     "text": [
      "18\n"
     ]
    }
   ],
   "source": [
    "x = 9 \n",
    "x *= 2\n",
    "print(x)"
   ]
  },
  {
   "cell_type": "code",
   "execution_count": 305,
   "id": "c50af2d5",
   "metadata": {},
   "outputs": [
    {
     "name": "stdout",
     "output_type": "stream",
     "text": [
      "9\n"
     ]
    }
   ],
   "source": [
    "x = 10 \n",
    "x -= 1\n",
    "print(x)"
   ]
  },
  {
   "cell_type": "code",
   "execution_count": 306,
   "id": "ebad1582",
   "metadata": {},
   "outputs": [
    {
     "name": "stdout",
     "output_type": "stream",
     "text": [
      "625\n"
     ]
    }
   ],
   "source": [
    "x = 5 \n",
    "x **= 4\n",
    "print(x)"
   ]
  },
  {
   "cell_type": "code",
   "execution_count": 307,
   "id": "24f4ccb5",
   "metadata": {},
   "outputs": [
    {
     "name": "stdout",
     "output_type": "stream",
     "text": [
      "6\n"
     ]
    }
   ],
   "source": [
    "x = 8 \n",
    "x -= 2\n",
    "print(x)"
   ]
  },
  {
   "cell_type": "code",
   "execution_count": 308,
   "id": "f2b5e89e",
   "metadata": {},
   "outputs": [
    {
     "name": "stdout",
     "output_type": "stream",
     "text": [
      "12\n"
     ]
    }
   ],
   "source": [
    "x = 10 \n",
    "x += 2\n",
    "print(x)"
   ]
  },
  {
   "cell_type": "code",
   "execution_count": 309,
   "id": "1a964bed",
   "metadata": {},
   "outputs": [
    {
     "name": "stdout",
     "output_type": "stream",
     "text": [
      "18.7\n"
     ]
    }
   ],
   "source": [
    "x = 11 \n",
    "x *= 1.7\n",
    "print(x)"
   ]
  },
  {
   "cell_type": "code",
   "execution_count": 310,
   "id": "cef300d5",
   "metadata": {},
   "outputs": [
    {
     "name": "stdout",
     "output_type": "stream",
     "text": [
      "6\n"
     ]
    }
   ],
   "source": [
    "x = 9 \n",
    "x -= 3\n",
    "print(x)"
   ]
  },
  {
   "cell_type": "code",
   "execution_count": 311,
   "id": "4ac33b3d",
   "metadata": {},
   "outputs": [
    {
     "name": "stdout",
     "output_type": "stream",
     "text": [
      "2401\n"
     ]
    }
   ],
   "source": [
    "x = 7 \n",
    "x **= 4\n",
    "print(x)"
   ]
  },
  {
   "cell_type": "code",
   "execution_count": 312,
   "id": "6623aad6",
   "metadata": {},
   "outputs": [
    {
     "name": "stdout",
     "output_type": "stream",
     "text": [
      "1\n"
     ]
    }
   ],
   "source": [
    "x = 11 \n",
    "x %= 2\n",
    "print(x)"
   ]
  },
  {
   "cell_type": "code",
   "execution_count": 313,
   "id": "73fc9417",
   "metadata": {},
   "outputs": [
    {
     "name": "stdout",
     "output_type": "stream",
     "text": [
      "2.0\n"
     ]
    }
   ],
   "source": [
    "x = 8 \n",
    "x /= 4\n",
    "print(x)"
   ]
  },
  {
   "cell_type": "code",
   "execution_count": 314,
   "id": "a7b938dc",
   "metadata": {},
   "outputs": [
    {
     "name": "stdout",
     "output_type": "stream",
     "text": [
      "25\n"
     ]
    }
   ],
   "source": [
    "x = 5 \n",
    "x *= 5\n",
    "print(x)"
   ]
  },
  {
   "cell_type": "code",
   "execution_count": 315,
   "id": "0d726462",
   "metadata": {},
   "outputs": [
    {
     "name": "stdout",
     "output_type": "stream",
     "text": [
      "2\n"
     ]
    }
   ],
   "source": [
    "x = 7 \n",
    "x %= 5\n",
    "print(x)"
   ]
  },
  {
   "cell_type": "code",
   "execution_count": 316,
   "id": "8b14a330",
   "metadata": {},
   "outputs": [
    {
     "name": "stdout",
     "output_type": "stream",
     "text": [
      "32768\n"
     ]
    }
   ],
   "source": [
    "x = 8 \n",
    "x **= 5\n",
    "print(x)"
   ]
  },
  {
   "cell_type": "code",
   "execution_count": 317,
   "id": "22f9b389",
   "metadata": {},
   "outputs": [
    {
     "name": "stdout",
     "output_type": "stream",
     "text": [
      "4\n"
     ]
    }
   ],
   "source": [
    "x = 12 \n",
    "x //= 3\n",
    "print(x)"
   ]
  },
  {
   "cell_type": "markdown",
   "id": "ded228b7",
   "metadata": {},
   "source": [
    "#### ESCAPE CHARACTERS\n",
    "\n",
    "An escape character allows you to include special characters in a string that would otherwise return an error. To use escape characters, add a backslash (\\) before the character you want to escape:\n",
    "\n",
    "    \" \\ \" use a single backslash to add apostrophe's in strings \n",
    "    \" \\n \" use to insert new lines in your strings\n",
    "    \" \\t \" use to insert tab spaces into your strings\n",
    "    \n",
    "Fix the code below to insert the correct escape character into the string. "
   ]
  },
  {
   "cell_type": "code",
   "execution_count": 125,
   "id": "f32087c4",
   "metadata": {},
   "outputs": [
    {
     "name": "stdout",
     "output_type": "stream",
     "text": [
      "Hello, what's up?\n"
     ]
    }
   ],
   "source": [
    "print('Hello, what\\'s up?')"
   ]
  },
  {
   "cell_type": "code",
   "execution_count": 59,
   "id": "f95259b6",
   "metadata": {},
   "outputs": [
    {
     "name": "stdout",
     "output_type": "stream",
     "text": [
      "Hello,\n",
      "I wish the first hello was on its own line!\n"
     ]
    }
   ],
   "source": [
    "print(\"Hello,\\nI wish the first hello was on its own line!\")"
   ]
  },
  {
   "cell_type": "code",
   "execution_count": 60,
   "id": "4f91339d",
   "metadata": {},
   "outputs": [
    {
     "name": "stdout",
     "output_type": "stream",
     "text": [
      "Hello\t I wish there was a long space after the first Hello.\n"
     ]
    }
   ],
   "source": [
    "print(\"Hello\\t I wish there was a long space after the first Hello.\")"
   ]
  },
  {
   "cell_type": "markdown",
   "id": "26b9ffa2",
   "metadata": {},
   "source": [
    "#### FORMATTED STRINGS PT 1\n",
    "\n",
    "Formatted strings allow you to return strings with specific formatting. A formatted string uses the following code to product output that looks a certain way:\n",
    "\n",
    "    {}  : a place holder\n",
    "\n",
    "The placeholder is used to insert the value of a specific variable into the string. All you need to do is insert the name of the variable and whatever value is assigned to that variable will show up when you print the statement. Complete the code in the cells below to print out the proper formatted strings. "
   ]
  },
  {
   "cell_type": "code",
   "execution_count": 63,
   "id": "5a18b3b4",
   "metadata": {},
   "outputs": [
    {
     "name": "stdout",
     "output_type": "stream",
     "text": [
      "Hello, Jasmine\n"
     ]
    }
   ],
   "source": [
    "x = \"Jasmine\"\n",
    "\n",
    "## complete the code below to print the statement \"Hello, [name]!\"\n",
    "\n",
    "print(f\"Hello, {x}\")"
   ]
  },
  {
   "cell_type": "code",
   "execution_count": 64,
   "id": "ceed705f",
   "metadata": {},
   "outputs": [
    {
     "name": "stdout",
     "output_type": "stream",
     "text": [
      "My favorite animal is a Cat\n"
     ]
    }
   ],
   "source": [
    "x = \"Cat\"\n",
    "\n",
    "## complete the code below to print the statement \"My favorite animal is a Cat\"\n",
    "\n",
    "print(f\"My favorite animal is a {x}\")"
   ]
  },
  {
   "cell_type": "code",
   "execution_count": 73,
   "id": "1bcc9a0d",
   "metadata": {},
   "outputs": [
    {
     "name": "stdout",
     "output_type": "stream",
     "text": [
      "My favorite actor is Tom Hank\n"
     ]
    }
   ],
   "source": [
    "x = \"Hank\"\n",
    "\n",
    "## complete the code below to print the statement \"My favorite actor is Tom Hanks\"\n",
    "\n",
    "print(f\"My favorite actor is Tom {x}\")"
   ]
  },
  {
   "cell_type": "code",
   "execution_count": 76,
   "id": "251f7329",
   "metadata": {},
   "outputs": [
    {
     "name": "stdout",
     "output_type": "stream",
     "text": [
      "Let's play chess, which color do you want to be? Black or White ?\n"
     ]
    }
   ],
   "source": [
    "x = \"Black\"\n",
    "y = \"White\"\n",
    "\n",
    "## complete the code below to print the statement \"Let's play chess, which color do you want to be? Black or White?\"\n",
    "\n",
    "print(f\"Let's play chess, which color do you want to be? {x} or {y} ?\")"
   ]
  },
  {
   "cell_type": "code",
   "execution_count": 77,
   "id": "a90dee16",
   "metadata": {},
   "outputs": [
    {
     "name": "stdout",
     "output_type": "stream",
     "text": [
      "The three cities I visited during my vacation were Paris, Dublin, Bristol.\n"
     ]
    }
   ],
   "source": [
    "a = \"Paris\"\n",
    "b = \"Dublin\"\n",
    "c = \"Bristol\"\n",
    "\n",
    "## complete the code below to print the statement \"The three cities I visited during my vacation were Paris, Bristol, and Dublin.\"\n",
    "\n",
    "print(f\"The three cities I visited during my vacation were {a}, {b}, {c}.\")"
   ]
  },
  {
   "cell_type": "markdown",
   "id": "c43d80dc",
   "metadata": {},
   "source": [
    "#### FORMATTED STRINGS PT 2\n",
    "\n",
    "Formatted strings allow you to return strings with specific formatting. A formatted string uses the following code to product output that looks a certain way:\n",
    "\n",
    "    ,   : shows commas in thousands place\n",
    "    .2f : shows 2 digits after the decimal point\n",
    "    .2% : shows 2 digits after the decimal point in percentage (%)\n",
    "\n",
    "The numeric formatting options allow you to return a number with a specific format. Typically, this includes adding a comma in the thousands place and truncating the amount of digits found after a decimal point. Complete the following questions in the cells below:\n",
    "\n",
    "1. Print the following number with commas and 1 number after the decimal: 49792862.39231\n",
    "2. Print the following number with commas and 3 number after the decimal: 3999876.009\n",
    "3. Print the following number as a percentage with 2 numbers after the decimal: .03974\n",
    "4. Print the following number with commas: 1000000000000000000\n",
    "5. Write the code to produce this output: 7, 890.00\n",
    "6. Write the code to product this output: 567.00045\n",
    "7. Print the following number with commas and no numbers after the decimal: 3450000"
   ]
  },
  {
   "cell_type": "code",
   "execution_count": 102,
   "id": "ec1a4d0a",
   "metadata": {},
   "outputs": [
    {
     "name": "stdout",
     "output_type": "stream",
     "text": [
      "49,792,862.4\n",
      "49,792,862.4\n"
     ]
    }
   ],
   "source": [
    "# comma with 1 decimal of 49792862.39231\n",
    "n=49792862.39231\n",
    "print(f\"{n:,.1f}\")       # (f\" str str {variable/express : formatting code} str\")\n",
    "print(\"{:,.1f}\".format(n)) # (\"str {: formatting code} str\".format (variable/ express))"
   ]
  },
  {
   "cell_type": "code",
   "execution_count": 103,
   "id": "0e45bfe0",
   "metadata": {},
   "outputs": [
    {
     "name": "stdout",
     "output_type": "stream",
     "text": [
      "3,999,876.009\n",
      "3,999,876.009\n"
     ]
    }
   ],
   "source": [
    "# comma with 3 decimal of 3999876.009\n",
    "n= 3999876.009\n",
    "print(f\"{n:,.3f}\")\n",
    "print(\"{:,.3f}\".format(n))"
   ]
  },
  {
   "cell_type": "code",
   "execution_count": 105,
   "id": "98930a6b",
   "metadata": {},
   "outputs": [
    {
     "name": "stdout",
     "output_type": "stream",
     "text": [
      "3.97%\n",
      "3.97%\n"
     ]
    }
   ],
   "source": [
    "# percentage of .03974\n",
    "print(f\"{0.03974*100 :.2f}%\")\n",
    "print(\"{:.2f}%\".format( 0.03974*100))"
   ]
  },
  {
   "cell_type": "code",
   "execution_count": 106,
   "id": "0e291e45",
   "metadata": {},
   "outputs": [
    {
     "name": "stdout",
     "output_type": "stream",
     "text": [
      "1,000,000,000,000,000,000.000000\n",
      "1,000,000,000,000,000,000.000000\n"
     ]
    }
   ],
   "source": [
    "#comma with 1000000000000000000\n",
    "print(f\"{1000000000000000000:,f}\")\n",
    "print(\"{:,f}\".format(1000000000000000000))"
   ]
  },
  {
   "cell_type": "code",
   "execution_count": 118,
   "id": "fbe15817",
   "metadata": {},
   "outputs": [
    {
     "name": "stdout",
     "output_type": "stream",
     "text": [
      "7890.00\n",
      "7890.00\n"
     ]
    }
   ],
   "source": [
    "#7890.00\n",
    "print(f\"{7890:.2f}\")\n",
    "print(\"{:.2f}\".format(7890))"
   ]
  },
  {
   "cell_type": "code",
   "execution_count": 111,
   "id": "508bf97e",
   "metadata": {},
   "outputs": [
    {
     "name": "stdout",
     "output_type": "stream",
     "text": [
      "567.00045\n"
     ]
    }
   ],
   "source": [
    "#567.00045\n",
    "print(f\"{56700045/100000:.5f}\")\n",
    "print()"
   ]
  },
  {
   "cell_type": "code",
   "execution_count": 115,
   "id": "b9ae28bc",
   "metadata": {},
   "outputs": [
    {
     "name": "stdout",
     "output_type": "stream",
     "text": [
      "3,450,000\n",
      "3,450,000\n"
     ]
    }
   ],
   "source": [
    "#3,450,000\n",
    "print(f\"{3450000:,.0f}\")\n",
    "print(\"{:,.0f}\".format(3450000))"
   ]
  },
  {
   "cell_type": "markdown",
   "id": "5675f4cf",
   "metadata": {},
   "source": [
    "#### INPUT FUNCTION \n",
    "\n",
    "The input function directly asks the user (you) for information. \n",
    "\n",
    "    input(tell the user what you want them to do!)\n",
    "    \n",
    "1. Use the input() function to find a users name\n",
    "2. Use the input() function to find a users address\n",
    "3. Use the input() function to find a users phone number\n",
    "4. Use the input() function to find a users age\n",
    "5. Using a formatted string, put all this information together and print a statement using what you learned about the user. "
   ]
  },
  {
   "cell_type": "code",
   "execution_count": 130,
   "id": "9213c2fd",
   "metadata": {},
   "outputs": [
    {
     "name": "stdout",
     "output_type": "stream",
     "text": [
      "Enter your name please phebe\n"
     ]
    }
   ],
   "source": [
    "## i'll get you started...\n",
    "\n",
    "name = input(\"Enter your name please \")"
   ]
  },
  {
   "cell_type": "code",
   "execution_count": 131,
   "id": "03895268",
   "metadata": {},
   "outputs": [
    {
     "name": "stdout",
     "output_type": "stream",
     "text": [
      "Enter your address please abc rockville\n"
     ]
    }
   ],
   "source": [
    "address = input(\"Enter your address please \")"
   ]
  },
  {
   "cell_type": "code",
   "execution_count": 136,
   "id": "096f4878",
   "metadata": {},
   "outputs": [
    {
     "name": "stdout",
     "output_type": "stream",
     "text": [
      "Enter your phone number please 1234567890\n"
     ]
    }
   ],
   "source": [
    "phoneNum = input(\"Enter your phone number please \")"
   ]
  },
  {
   "cell_type": "code",
   "execution_count": 137,
   "id": "be7f3e52",
   "metadata": {},
   "outputs": [
    {
     "name": "stdout",
     "output_type": "stream",
     "text": [
      "Enter your age please 30\n"
     ]
    }
   ],
   "source": [
    "age = input(\"Enter your age please \")"
   ]
  },
  {
   "cell_type": "code",
   "execution_count": 138,
   "id": "2f564a9b",
   "metadata": {},
   "outputs": [
    {
     "name": "stdout",
     "output_type": "stream",
     "text": [
      "Name: phebe\n",
      "Address: abc rockville\n",
      "Age: 30\n",
      "Phone number: 1234567890\n"
     ]
    }
   ],
   "source": [
    "print(f\"Name: {name}\\nAddress: {address}\\nAge: {age}\\nPhone number: {phoneNum}\" )"
   ]
  },
  {
   "cell_type": "markdown",
   "id": "3439a3eb",
   "metadata": {},
   "source": [
    "#### DATA TYPE CONVERSION FUNCTIONS\n",
    "\n",
    "You can convert data to various types using three built-in functions. \n",
    "* the int() function turns a value into an integer\n",
    "* the float() function turns a value into a float\n",
    "* the str() function turns a value into a string\n",
    "\n",
    "Complete the code below to make the necessary changes. "
   ]
  },
  {
   "cell_type": "code",
   "execution_count": 120,
   "id": "ac1ddb88",
   "metadata": {},
   "outputs": [
    {
     "data": {
      "text/plain": [
       "187.0"
      ]
     },
     "execution_count": 120,
     "metadata": {},
     "output_type": "execute_result"
    }
   ],
   "source": [
    "x = \"187\"\n",
    "\n",
    "### convert x into a float value\n",
    "\n",
    "float(x)\n"
   ]
  },
  {
   "cell_type": "code",
   "execution_count": 123,
   "id": "0167e572",
   "metadata": {},
   "outputs": [
    {
     "data": {
      "text/plain": [
       "'123.56'"
      ]
     },
     "execution_count": 123,
     "metadata": {},
     "output_type": "execute_result"
    }
   ],
   "source": [
    "y = 123.56\n",
    "\n",
    "### convert y into a string value\n",
    "\n",
    "str(y)"
   ]
  },
  {
   "cell_type": "code",
   "execution_count": 124,
   "id": "1190bded",
   "metadata": {},
   "outputs": [
    {
     "data": {
      "text/plain": [
       "99.0"
      ]
     },
     "execution_count": 124,
     "metadata": {},
     "output_type": "execute_result"
    }
   ],
   "source": [
    "z = 99\n",
    "\n",
    "### convert z into a float value \n",
    "\n",
    "float(z)"
   ]
  },
  {
   "cell_type": "markdown",
   "id": "8d175867",
   "metadata": {},
   "source": [
    "# { Module 1 Quiz }"
   ]
  },
  {
   "cell_type": "markdown",
   "id": "87bbeab8",
   "metadata": {},
   "source": [
    "1. Print out your favorite snack and write a comment about what you are doing in the code. \n",
    "2. Print the sum of the following values: 3, 56, 21, 11, 7, 0, 5\n",
    "3. Print the remainder of the values 435 and 6\n",
    "4. Create a variable called 'eye color' and store your eye color to the variable. Print a sentence describing your eye color and using the variable in the sentence. \n",
    "5. Write a code to get two integers from a user. Print out their sum."
   ]
  },
  {
   "cell_type": "code",
   "execution_count": null,
   "id": "9dda6e42",
   "metadata": {},
   "outputs": [],
   "source": [
    "# the favorite snack\n",
    "print(input(\"What is your favorite snake: \"))"
   ]
  },
  {
   "cell_type": "code",
   "execution_count": 160,
   "id": "fcc209d6",
   "metadata": {},
   "outputs": [
    {
     "name": "stdout",
     "output_type": "stream",
     "text": [
      "The sum of 3, 56, 21, 11, 7, 0 and 5 is 103\n"
     ]
    }
   ],
   "source": [
    "print(\"The sum of 3, 56, 21, 11, 7, 0 and 5 is\" , 3+ 56+ 21+ 11+ 7+ 0+ 5 )"
   ]
  },
  {
   "cell_type": "code",
   "execution_count": 161,
   "id": "4474228d",
   "metadata": {},
   "outputs": [
    {
     "name": "stdout",
     "output_type": "stream",
     "text": [
      "The remider of 435 and 6 is  3\n"
     ]
    }
   ],
   "source": [
    "print(\"The remider of 435 and 6 is \", 435%6)"
   ]
  },
  {
   "cell_type": "code",
   "execution_count": 167,
   "id": "67d80096",
   "metadata": {},
   "outputs": [
    {
     "name": "stdout",
     "output_type": "stream",
     "text": [
      "What is your eye color: blue\n",
      "Eye color is blue\n"
     ]
    }
   ],
   "source": [
    "eyeColor= input(\"What is your eye color: \")\n",
    "print(f\"Eye color is {eyeColor}\")"
   ]
  },
  {
   "cell_type": "markdown",
   "id": "c75fba17",
   "metadata": {},
   "source": [
    "## Module 2 Review"
   ]
  },
  {
   "cell_type": "markdown",
   "id": "87b6cfcd",
   "metadata": {},
   "source": [
    "#### IMPORTING LIBRARIES\n",
    "\n",
    "A library is a specific collection of python functions. You can use these functions by first importing the library into your notebook. Once you import your library, you can give it a nickname. The nickname is optional, but it makes it easier to use (or reference) the library throughout your code. \n",
    "\n",
    "    import [ library name ]\n",
    "    \n",
    "Importing a library and assigning a nickname:\n",
    "\n",
    "    import [ library name ] as [ nickname ]\n",
    "    \n",
    "Import the library \"random\" and nickname it \"rd\". "
   ]
  },
  {
   "cell_type": "code",
   "execution_count": 141,
   "id": "3538e862",
   "metadata": {},
   "outputs": [],
   "source": [
    "import random as r"
   ]
  },
  {
   "cell_type": "markdown",
   "id": "c6ddeed7",
   "metadata": {},
   "source": [
    "#### RANDOM NUMBER GENERATOR\n",
    "\n",
    "The random library contains a function that allows you to generate a random number. This library has two functions that are useful:\n",
    "\n",
    "    .random() : this will generate a random number \n",
    "    .randint() : this will generate a random integer within a specific range\n",
    "    \n",
    "When you want to use the function, you first have to reference the name of your library (or it's nickname) and then attach the function to the end of the library name. For example:\n",
    "\n",
    "    rd.random()\n",
    "    rd.randint() \n",
    "    rd.randint(0, 10) >>> this code will generate a random number between 0 and 10 \n",
    "\n",
    "1. Generate a random number\n",
    "2. Generate a random integer\n",
    "3. Generate a random integer between 1 and 100\n",
    "4. Generate a random integer between -10 and 10"
   ]
  },
  {
   "cell_type": "code",
   "execution_count": 142,
   "id": "e4ae5bb8",
   "metadata": {},
   "outputs": [
    {
     "data": {
      "text/plain": [
       "0.4345967811461836"
      ]
     },
     "execution_count": 142,
     "metadata": {},
     "output_type": "execute_result"
    }
   ],
   "source": [
    "r.random()"
   ]
  },
  {
   "cell_type": "code",
   "execution_count": 144,
   "id": "e64d59e8",
   "metadata": {},
   "outputs": [
    {
     "data": {
      "text/plain": [
       "8"
      ]
     },
     "execution_count": 144,
     "metadata": {},
     "output_type": "execute_result"
    }
   ],
   "source": [
    "r.randint(1,10)"
   ]
  },
  {
   "cell_type": "code",
   "execution_count": 145,
   "id": "03b4cc8a",
   "metadata": {},
   "outputs": [
    {
     "data": {
      "text/plain": [
       "83"
      ]
     },
     "execution_count": 145,
     "metadata": {},
     "output_type": "execute_result"
    }
   ],
   "source": [
    "r.randint(1,100)"
   ]
  },
  {
   "cell_type": "code",
   "execution_count": 149,
   "id": "42b172c4",
   "metadata": {},
   "outputs": [
    {
     "data": {
      "text/plain": [
       "5"
      ]
     },
     "execution_count": 149,
     "metadata": {},
     "output_type": "execute_result"
    }
   ],
   "source": [
    "r.randint(-10,10)"
   ]
  },
  {
   "cell_type": "markdown",
   "id": "5e925c51",
   "metadata": {},
   "source": [
    "#### LEN FUNCTION\n",
    "\n",
    "The len() function returns the length of a given value. This includes the length of a string, the amount of characters is a sentence (which also counts white spaces), the number of items in a list, etc. Complete the code below to determine the length of the following items. Before you run the code, try to guess what the length value is going to be. "
   ]
  },
  {
   "cell_type": "code",
   "execution_count": 150,
   "id": "694d46db",
   "metadata": {},
   "outputs": [
    {
     "data": {
      "text/plain": [
       "5"
      ]
     },
     "execution_count": 150,
     "metadata": {},
     "output_type": "execute_result"
    }
   ],
   "source": [
    "### what is the length of the following string:\n",
    "\n",
    "len(\"Hello\")"
   ]
  },
  {
   "cell_type": "code",
   "execution_count": 318,
   "id": "990c5881",
   "metadata": {},
   "outputs": [
    {
     "data": {
      "text/plain": [
       "7"
      ]
     },
     "execution_count": 318,
     "metadata": {},
     "output_type": "execute_result"
    }
   ],
   "source": [
    "### what is the length of the following string:\n",
    "\n",
    "len(\"123ABC\")"
   ]
  },
  {
   "cell_type": "code",
   "execution_count": 152,
   "id": "0d2e17d9",
   "metadata": {},
   "outputs": [
    {
     "data": {
      "text/plain": [
       "31"
      ]
     },
     "execution_count": 152,
     "metadata": {},
     "output_type": "execute_result"
    }
   ],
   "source": [
    "### what is the length of the following string:\n",
    "\n",
    "len(\"Hello, how are you doing today?\")"
   ]
  },
  {
   "cell_type": "code",
   "execution_count": 153,
   "id": "ef2c9c60",
   "metadata": {},
   "outputs": [
    {
     "data": {
      "text/plain": [
       "56"
      ]
     },
     "execution_count": 153,
     "metadata": {},
     "output_type": "execute_result"
    }
   ],
   "source": [
    "### what is the length of the following string:\n",
    "\n",
    "len(\"Hello, it's really nice to meet you! I hope you're well!\")"
   ]
  },
  {
   "cell_type": "code",
   "execution_count": 154,
   "id": "e5415e13",
   "metadata": {},
   "outputs": [
    {
     "data": {
      "text/plain": [
       "1"
      ]
     },
     "execution_count": 154,
     "metadata": {},
     "output_type": "execute_result"
    }
   ],
   "source": [
    "### what is the length of the following string:\n",
    "\n",
    "len(\" \")"
   ]
  },
  {
   "cell_type": "markdown",
   "id": "0d32284b",
   "metadata": {},
   "source": [
    "#### STRING METHODS\n",
    "\n",
    "There are several functions that are used specifically with strings. The most important functions to remember are:\n",
    "    \n",
    "<b> Change the Case </b>\n",
    "    \n",
    "    .title() >> change a string to title case\n",
    "    .upper() >> change a string to upper case\n",
    "    .lower() >> change a string to lower case\n",
    "    \n",
    "<b> Remove White Spaces from a String </b>\n",
    "\n",
    "    .strip() >> strip white spaces from both ends of a string\n",
    "    .rstrip() >> remove white spaces from the right-side of a string\n",
    "    .lstrip() >> remove white spaces from the left-side of a string\n",
    "    \n",
    "<b> Replace a value in a String with another value</b>\n",
    "\n",
    "    .replace() >> replace a specific character with another character\n",
    "    .replace(\"what you want to replace\", \"what to replace it with\")\n",
    "    \n",
    "Complete the code below to practice the above string methods. "
   ]
  },
  {
   "cell_type": "code",
   "execution_count": 168,
   "id": "d1ecde8e",
   "metadata": {},
   "outputs": [
    {
     "name": "stdout",
     "output_type": "stream",
     "text": [
      "George Washington\n"
     ]
    }
   ],
   "source": [
    "name = \"gEOrGe washINGtoN\"\n",
    "print(name.title())\n",
    "## change the above string to title case"
   ]
  },
  {
   "cell_type": "code",
   "execution_count": 169,
   "id": "a342aa44",
   "metadata": {},
   "outputs": [
    {
     "name": "stdout",
     "output_type": "stream",
     "text": [
      "hello what are you doing!\n"
     ]
    }
   ],
   "source": [
    "yelling = \"HELLO WHAT ARE YOU DOING!\"\n",
    "print(yelling.lower())\n",
    "## change the above string to lowercase"
   ]
  },
  {
   "cell_type": "code",
   "execution_count": 171,
   "id": "f950dbc2",
   "metadata": {},
   "outputs": [
    {
     "name": "stdout",
     "output_type": "stream",
     "text": [
      "The Great Gatsby\n"
     ]
    }
   ],
   "source": [
    "book = \"the great gatsby\"\n",
    "print(book.title())\n",
    "## change the above string to title case"
   ]
  },
  {
   "cell_type": "code",
   "execution_count": 172,
   "id": "d94057a7",
   "metadata": {},
   "outputs": [
    {
     "name": "stdout",
     "output_type": "stream",
     "text": [
      "NEW YORK\n"
     ]
    }
   ],
   "source": [
    "city = \"nEW york\"\n",
    "print(city.upper())\n",
    "## change the above string to uppercase"
   ]
  },
  {
   "cell_type": "code",
   "execution_count": 173,
   "id": "4da01258",
   "metadata": {},
   "outputs": [
    {
     "name": "stdout",
     "output_type": "stream",
     "text": [
      "Not all those who wander are lost.\n"
     ]
    }
   ],
   "source": [
    "quote = \"        Not all those who wander are lost.         \"\n",
    "print(quote.strip())\n",
    "## strip the above string of white space on each side "
   ]
  },
  {
   "cell_type": "code",
   "execution_count": 174,
   "id": "9f8e9d33",
   "metadata": {},
   "outputs": [
    {
     "name": "stdout",
     "output_type": "stream",
     "text": [
      "Not all those who wander are lost.         \n"
     ]
    }
   ],
   "source": [
    "quote = \"        Not all those who wander are lost.         \"\n",
    "print(quote.lstrip())\n",
    "## strip the above string of white spaces on the left side"
   ]
  },
  {
   "cell_type": "code",
   "execution_count": 176,
   "id": "3867989e",
   "metadata": {},
   "outputs": [
    {
     "name": "stdout",
     "output_type": "stream",
     "text": [
      "        Not all those who wander are lost.\n"
     ]
    }
   ],
   "source": [
    "quote = \"        Not all those who wander are lost.         \"\n",
    "print(quote.rstrip())\n",
    "## strip the above string of white spaces on the right side"
   ]
  },
  {
   "cell_type": "code",
   "execution_count": 183,
   "id": "e983c072",
   "metadata": {},
   "outputs": [
    {
     "name": "stdout",
     "output_type": "stream",
     "text": [
      "four score and seven years ago...\n"
     ]
    }
   ],
   "source": [
    "speech = \"4 score and seven years ago...\"\n",
    "print(speech.replace (\"4\", \"four\"))\n",
    "## in the above string, replace the value of \"4\" with the word \"four\""
   ]
  },
  {
   "cell_type": "code",
   "execution_count": 184,
   "id": "3f2d8aff",
   "metadata": {},
   "outputs": [
    {
     "name": "stdout",
     "output_type": "stream",
     "text": [
      "Four score and 7 years ago...\n"
     ]
    }
   ],
   "source": [
    "speech = \"Four score and seven years ago...\"\n",
    "print(speech.replace (\"seven\",\"7\"))\n",
    "## in the above string, replace the word of \"seven\" with the value \"7\""
   ]
  },
  {
   "cell_type": "code",
   "execution_count": 187,
   "id": "eb0a2616",
   "metadata": {},
   "outputs": [
    {
     "name": "stdout",
     "output_type": "stream",
     "text": [
      "Four score and seven years ago.\n"
     ]
    }
   ],
   "source": [
    "speech = \"Four score and seven years ago...\"\n",
    "print(speech.replace(\"...\", \".\"))\n",
    "## in the above string, replace the \"...\" with a single period"
   ]
  },
  {
   "cell_type": "markdown",
   "id": "0f0bcd3a",
   "metadata": {},
   "source": [
    "#### INDEXING A STRING\n",
    "\n",
    "Strings are ordered sequences of characters and each character has a number associated with it. \n",
    "\n",
    "Indexing allows you to access individual characters in a string (or other ordered data types like a list) directly by using a numeric value, that numeric value is associated with a character/position in the string. \n",
    "\n",
    "In python, indexing is zero-based, meaning, the first character in the string has an index of 0, followed by 1, then 2, etc. See below for an example of how index values are associated with a string:\n",
    "\n",
    "    H[0]e[1]l[2]l[3]o[4]![5]\n",
    "    \n",
    "index value of 0 returns the character \"H\"\n",
    "index value of 1 returns the character \"e\"\n",
    "index value of 2 returns the character \"l\"\n",
    "index value of 3 returns the character \"l\"\n",
    "index value of 4 returns the character \"o\"\n",
    "index value of 5 returns the character \"!\"\n",
    "\n",
    "Complete the code below to practice indexing a specific string. "
   ]
  },
  {
   "cell_type": "code",
   "execution_count": 225,
   "id": "c8e51598",
   "metadata": {},
   "outputs": [
    {
     "data": {
      "text/plain": [
       "44"
      ]
     },
     "execution_count": 225,
     "metadata": {},
     "output_type": "execute_result"
    }
   ],
   "source": [
    "## run this cell to define the variable 'words'\n",
    "## determine the length (how many characters) of the passage \n",
    "\n",
    "words = \"To be, or not to be, that is the question...\"\n",
    "\n",
    "len(words)"
   ]
  },
  {
   "cell_type": "code",
   "execution_count": 226,
   "id": "c2c102f4",
   "metadata": {},
   "outputs": [
    {
     "data": {
      "text/plain": [
       "'T'"
      ]
     },
     "execution_count": 226,
     "metadata": {},
     "output_type": "execute_result"
    }
   ],
   "source": [
    "## index the variable 'words'\n",
    "# what character is in position 0?--T\n",
    "\n",
    "words[0]"
   ]
  },
  {
   "cell_type": "code",
   "execution_count": 227,
   "id": "b19dc375",
   "metadata": {},
   "outputs": [
    {
     "data": {
      "text/plain": [
       "'t'"
      ]
     },
     "execution_count": 227,
     "metadata": {},
     "output_type": "execute_result"
    }
   ],
   "source": [
    "## index the variable 'words'  -------includes white space and punctuation\n",
    "# what character is in position 15?\n",
    "words[14]"
   ]
  },
  {
   "cell_type": "code",
   "execution_count": 228,
   "id": "3f34ee5e",
   "metadata": {},
   "outputs": [
    {
     "data": {
      "text/plain": [
       "'r'"
      ]
     },
     "execution_count": 228,
     "metadata": {},
     "output_type": "execute_result"
    }
   ],
   "source": [
    "## index the variable 'words'\n",
    "# what character is in position 9?\n",
    "words[8]"
   ]
  },
  {
   "cell_type": "code",
   "execution_count": 229,
   "id": "81c90dbb",
   "metadata": {},
   "outputs": [
    {
     "data": {
      "text/plain": [
       "'i'"
      ]
     },
     "execution_count": 229,
     "metadata": {},
     "output_type": "execute_result"
    }
   ],
   "source": [
    "## index the variable 'words'\n",
    "# what character is in position 39?\n",
    "words[38]"
   ]
  },
  {
   "cell_type": "markdown",
   "id": "aab4ba3d",
   "metadata": {},
   "source": [
    "#### CUSTOMIZED FUNCTIONS \n",
    "\n",
    "Python allows you to create your own unique functions. This gives you a lot of flexibility on the tasks you can automate within your code. You can create a function to do practically anything -- print a single value, add two numbers together, remove white spaces from a string, etc. \n",
    "\n",
    "* A custom function begins with the keyword <b>def</b> and followed by a function name (of your choice). \n",
    "* The function may take argument(s) as input within the opening and closing parentheses, just after the function name and following by a colon. \n",
    "* After defining the function name and argument(s) a block of program statement(s) start on the next line and these statement(s) must be indented. Please note, adding arguments within the parentheses is optional!\n",
    "\n",
    "When you are defining a function, follow these steps:\n",
    "\n",
    "     def function_name(argument1, argument2, ...) :\n",
    "          statement_1\n",
    "          statement_2\n",
    "\n",
    "Complete the code below to define a series of functions. "
   ]
  },
  {
   "cell_type": "code",
   "execution_count": 195,
   "id": "796baaa1",
   "metadata": {},
   "outputs": [
    {
     "name": "stdout",
     "output_type": "stream",
     "text": [
      "10\n"
     ]
    }
   ],
   "source": [
    "# EXAMPLE #\n",
    "## define a function that takes one number and prints the number\n",
    "\n",
    "def print_num(num):\n",
    "    print(num)\n",
    "\n",
    "## call the function\n",
    "## this function takes one argument, so you have to give the function info\n",
    "\n",
    "print_num(10)"
   ]
  },
  {
   "cell_type": "code",
   "execution_count": 196,
   "id": "539cd9e3",
   "metadata": {},
   "outputs": [
    {
     "name": "stdout",
     "output_type": "stream",
     "text": [
      "Enter a number: 2\n",
      "2\n"
     ]
    }
   ],
   "source": [
    "# EXAMPLE #\n",
    "## define a function that generates one number and prints the number\n",
    "\n",
    "def print_num_b():\n",
    "    num = int(input(\"Enter a number: \"))\n",
    "    print(num)\n",
    "\n",
    "## call the function\n",
    "## this function takes no arguments, therefore, we can call the function without giving information first\n",
    "\n",
    "print_num_b()"
   ]
  },
  {
   "cell_type": "code",
   "execution_count": 197,
   "id": "b7303870",
   "metadata": {},
   "outputs": [
    {
     "name": "stdout",
     "output_type": "stream",
     "text": [
      "5\n"
     ]
    }
   ],
   "source": [
    "## define a function that takes two numbers and adds them together\n",
    "\n",
    "def print_nums(num1, num2):\n",
    "    print(num1 + num2)\n",
    "\n",
    "## call the function below\n",
    "## this function takes two arguments, so you have to give the function info\n",
    "\n",
    "print_nums(2,3)"
   ]
  },
  {
   "cell_type": "code",
   "execution_count": 198,
   "id": "9d30be02",
   "metadata": {},
   "outputs": [
    {
     "name": "stdout",
     "output_type": "stream",
     "text": [
      "Enter a number: 2\n",
      "Enter another number: 9\n",
      "11\n"
     ]
    }
   ],
   "source": [
    "## define a function that generates two numbers and adds them together\n",
    "\n",
    "def print_nums_b():\n",
    "    num1 = int(input(\"Enter a number: \"))\n",
    "    num2 = int(input(\"Enter another number: \"))\n",
    "    print(num1 + num2)\n",
    "\n",
    "## call the function below\n",
    "## this function takes no arguments, therefore, we can call the function without giving information first\n",
    "\n",
    "print_nums_b()"
   ]
  },
  {
   "cell_type": "code",
   "execution_count": 199,
   "id": "ad99120a",
   "metadata": {},
   "outputs": [
    {
     "name": "stdout",
     "output_type": "stream",
     "text": [
      "INFORMATION\n"
     ]
    }
   ],
   "source": [
    "## define a function that takes a string and changes the case to uppercase\n",
    "\n",
    "def uppercased(string):\n",
    "    string = string.upper()\n",
    "    print(string)\n",
    "    \n",
    "## call the function below\n",
    "## this function takes one argument, so you have to give the function info\n",
    "\n",
    "uppercased(\"information\")"
   ]
  },
  {
   "cell_type": "code",
   "execution_count": 200,
   "id": "7e297a09",
   "metadata": {},
   "outputs": [
    {
     "name": "stdout",
     "output_type": "stream",
     "text": [
      "27\n"
     ]
    }
   ],
   "source": [
    "## define a function that asks a user for two numbers then multiplies those numbers together\n",
    "\n",
    "def multi(x, y):\n",
    "    print(x * y)\n",
    "    \n",
    "## call the function below\n",
    "## this function takes two arguments, so you have to give the function info\n",
    "\n",
    "multi(3,9)"
   ]
  },
  {
   "cell_type": "code",
   "execution_count": 201,
   "id": "a1d3e647",
   "metadata": {},
   "outputs": [
    {
     "name": "stdout",
     "output_type": "stream",
     "text": [
      "Enter a number: 4\n",
      "Enter another number: 8\n",
      "32\n"
     ]
    }
   ],
   "source": [
    "## define a function that asks a user for two numbers then multiplies those numbers together\n",
    "\n",
    "def multi_b():\n",
    "    x = int(input(\"Enter a number: \")) \n",
    "    y = int(input(\"Enter another number: \"))\n",
    "    print(x * y)\n",
    "\n",
    "## call the function below\n",
    "## this function takes no arguments, therefore, we can call the function without giving information first\n",
    "\n",
    "multi_b()"
   ]
  },
  {
   "cell_type": "markdown",
   "id": "b7f66b5e",
   "metadata": {},
   "source": [
    "# { Module 2 Quiz }\n",
    "\n",
    "1. Convert \"890\" to an integer data type\n",
    "2. Get two numbers from a user. Use these two numbers as the starting and ending number when generating a random integer. Run the code to produce a random integer within this range.\n",
    "3. Remove the whitespaces from the ends of the following string: \"   What is your name   ?\"\n",
    "4. After you remove the whitespaces from the above string, index the string to find the character in position 3.\n",
    "5. Define a function that asks a user for three numbers. Add the first two numbers together. Then, multiply the sum of the first two numbers with the third number. After you define the function, use it!"
   ]
  },
  {
   "cell_type": "code",
   "execution_count": null,
   "id": "8ef05ca6",
   "metadata": {},
   "outputs": [],
   "source": [
    "import random as r"
   ]
  },
  {
   "cell_type": "code",
   "execution_count": null,
   "id": "0a78e3fc",
   "metadata": {},
   "outputs": [],
   "source": [
    "int ('890')"
   ]
  },
  {
   "cell_type": "code",
   "execution_count": null,
   "id": "1a0ac364",
   "metadata": {},
   "outputs": [],
   "source": [
    "start= int( input (\"Enter a number please: \"))\n",
    "end= int( input(\"Enter another number: \"))\n",
    "print( r.randint(start,end) )"
   ]
  },
  {
   "cell_type": "code",
   "execution_count": null,
   "id": "8e8d5ed2",
   "metadata": {},
   "outputs": [],
   "source": [
    "sentence= \" What is your name ?\"\n",
    "sentence.rstrip()\n",
    "sentence[2]"
   ]
  },
  {
   "cell_type": "code",
   "execution_count": 230,
   "id": "28bac603",
   "metadata": {},
   "outputs": [
    {
     "name": "stdout",
     "output_type": "stream",
     "text": [
      "Enter the first number:1\n",
      "Enter the second number:3\n",
      "Enter the third number:7\n",
      "28\n"
     ]
    }
   ],
   "source": [
    "def num ( ):\n",
    "    n1= int(input(\"Enter the first number:\"))\n",
    "    n2= int(input(\"Enter the second number:\"))\n",
    "    n3= int(input(\"Enter the third number:\"))\n",
    "    print( (n1+n2)*n3)\n",
    "    \n",
    "num()"
   ]
  },
  {
   "cell_type": "code",
   "execution_count": null,
   "id": "eea3078a",
   "metadata": {},
   "outputs": [],
   "source": []
  },
  {
   "cell_type": "markdown",
   "id": "000f4b45",
   "metadata": {},
   "source": [
    "## Module 3 Review"
   ]
  },
  {
   "cell_type": "markdown",
   "id": "f414038b",
   "metadata": {},
   "source": [
    "#### COMPARISON AND BOOLEAN OPERATORS\n",
    "\n",
    "Comparison operators compare two values to each other and return a result based on that comparison (either true or false). The comparison operators you have available are as follows:\n",
    "\n",
    "    == : equal to\n",
    "    != : not equal to\n",
    "    >  : greater than\n",
    "    <  : less than\n",
    "    >= : greater than or equal to\n",
    "    <= : less than or equal to\n",
    "    \n",
    "For example, x = 10 and y = 14, see below for the following comparison results:\n",
    "\n",
    "       x == y >> FALSE\n",
    "       x != y >> TRUE\n",
    "       x > y >> FALSE\n",
    "       x < y >> TRUE\n",
    "       x >= y >> FALSE\n",
    "       x <= y >> TRUE\n",
    "    \n",
    "1. Create 5 conditions that produce a FALSE result\n",
    "2. Create 5 conditions that produce a TRUE result"
   ]
  },
  {
   "cell_type": "code",
   "execution_count": null,
   "id": "946b26a8",
   "metadata": {},
   "outputs": [],
   "source": []
  },
  {
   "cell_type": "markdown",
   "id": "66b6fa06",
   "metadata": {},
   "source": [
    "#### CONDITIONAL STATEMENTS\n",
    "\n",
    "Conditional statements check a statement for truth and executes a specific task depending on if the statement is true or false. Conditional statements include:\n",
    "\n",
    "    IF >> if \n",
    "    ELSE >> else\n",
    "    ELIF >> else if "
   ]
  },
  {
   "cell_type": "markdown",
   "id": "e2fd1d7e",
   "metadata": {},
   "source": [
    "#### IF STATEMENTS\n",
    "\n",
    "The IF statement checks a statement for truth, if the statement is true a specific task will be executed\n",
    "\n",
    "1. Run the code in the first example\n",
    "2. Create your own IF statement that prints a number if it is higher than 100\n",
    "3. Create an IF statement that adds 10 to a number if it is higher than 100; print the sum of the two numbers. "
   ]
  },
  {
   "cell_type": "code",
   "execution_count": null,
   "id": "65265c00",
   "metadata": {},
   "outputs": [],
   "source": [
    "## EXAMPLE\n",
    "\n",
    "age = 28\n",
    "\n",
    "if age > 18:\n",
    "    print(\"You are older than 18.\")"
   ]
  },
  {
   "cell_type": "code",
   "execution_count": null,
   "id": "fe9d34d7",
   "metadata": {},
   "outputs": [],
   "source": []
  },
  {
   "cell_type": "code",
   "execution_count": null,
   "id": "70e1a783",
   "metadata": {},
   "outputs": [],
   "source": []
  },
  {
   "cell_type": "markdown",
   "id": "35172b2f",
   "metadata": {},
   "source": [
    "#### IF/ELSE STATEMENTS\n",
    "\n",
    "The IF/ELSE statements (when used together), checks a statement for truth - if the statement is true, the task underneath the IF statement will execute. If the statement if false, the task underneath the ELSE statement will execute.\n",
    "\n",
    "1. Run the code in the first example\n",
    "2. Create your own IF/ELSE statement that prints a number if it is higher than 100; if it is lower than 100, print \"Low Number\". \n",
    "3. Create an IF/ELSE statement that adds 10 to a number if it is higher than 100; if it isn't higher than 100, add 100 to the number. Print the sum of the two numbers."
   ]
  },
  {
   "cell_type": "code",
   "execution_count": 235,
   "id": "dba5c370",
   "metadata": {},
   "outputs": [
    {
     "name": "stdout",
     "output_type": "stream",
     "text": [
      "You are younger than 18.\n"
     ]
    }
   ],
   "source": [
    "## EXAMPLE\n",
    "\n",
    "age = 8\n",
    "\n",
    "if age > 18:\n",
    "    print(\"You are older than 18.\")\n",
    "else:\n",
    "    print(\"You are younger than 18.\")"
   ]
  },
  {
   "cell_type": "code",
   "execution_count": 237,
   "id": "15ce4d48",
   "metadata": {},
   "outputs": [
    {
     "name": "stdout",
     "output_type": "stream",
     "text": [
      "Enter a number: 49\n",
      "Lower Number\n"
     ]
    }
   ],
   "source": [
    "num= int (input(\"Enter a number: \"))\n",
    "\n",
    "if num >100:\n",
    "    print (num)\n",
    "elif num <100:\n",
    "    print(\"Lower Number\")"
   ]
  },
  {
   "cell_type": "code",
   "execution_count": 241,
   "id": "236f3ddb",
   "metadata": {},
   "outputs": [
    {
     "name": "stdout",
     "output_type": "stream",
     "text": [
      "Enter a number: 89\n",
      "189\n"
     ]
    }
   ],
   "source": [
    "num= int (input(\"Enter a number: \"))\n",
    "\n",
    "if num >100:\n",
    "    num += 10\n",
    "    print (num)\n",
    "elif num <100:\n",
    "    num += 100\n",
    "    print (num)"
   ]
  },
  {
   "cell_type": "code",
   "execution_count": null,
   "id": "acc1a8c4",
   "metadata": {},
   "outputs": [],
   "source": []
  },
  {
   "cell_type": "markdown",
   "id": "8fda511e",
   "metadata": {},
   "source": [
    "#### ELIF STATEMENTS\n",
    "\n",
    "The ELIF statement is short for \"ELSE IF\" and is a combination of the above statements. ELIF checks another statement for truth (after the initial IF statement) -- if the statement if true, the tasks underneath the ELIF statement will execute. \n",
    "\n",
    "1. Run the code in the first example\n",
    "2. Create your own IF/ELIF/ELSE statement that prints a number if it is higher than 100; if the value is equal to 100 - print \"100\". If both statements are false, print \"less than 100\").\n",
    "3. Create an IF/ELIF/ELSE statement that adds 10 to a number if it is higher than 100; if the number is greater than 50 -- add 20 to the number. If none of the above are true, add 100 to the number. Print the sum of the two numbers. \n"
   ]
  },
  {
   "cell_type": "code",
   "execution_count": 242,
   "id": "274f1c76",
   "metadata": {},
   "outputs": [
    {
     "name": "stdout",
     "output_type": "stream",
     "text": [
      "You ARE currently 18!\n"
     ]
    }
   ],
   "source": [
    "## EXAMPLE\n",
    "\n",
    "age = 18\n",
    "\n",
    "if age > 18:\n",
    "    print(\"You are older than 18.\")\n",
    "elif age == 18:\n",
    "    print(\"You ARE currently 18!\")\n",
    "else:\n",
    "    print(\"You are younger than 18.\")"
   ]
  },
  {
   "cell_type": "code",
   "execution_count": 243,
   "id": "f34a0f17",
   "metadata": {},
   "outputs": [
    {
     "name": "stdout",
     "output_type": "stream",
     "text": [
      "enter a number: 78\n",
      "less than 100\n"
     ]
    }
   ],
   "source": [
    "n= int(input(\"enter a number: \"))\n",
    "if n>100:\n",
    "    print(n)\n",
    "elif n==100:\n",
    "    print(\"100\")\n",
    "else:\n",
    "    print(\"less than 100\")"
   ]
  },
  {
   "cell_type": "code",
   "execution_count": 244,
   "id": "5a085b63",
   "metadata": {},
   "outputs": [
    {
     "name": "stdout",
     "output_type": "stream",
     "text": [
      "enter a number: 3\n",
      "103\n"
     ]
    }
   ],
   "source": [
    "n1= int(input(\"enter a number: \"))\n",
    "if n1>100:\n",
    "    print(n1+10)\n",
    "elif n1>50:\n",
    "    print(n1+20)\n",
    "else:\n",
    "    print(n1+100)"
   ]
  },
  {
   "cell_type": "code",
   "execution_count": null,
   "id": "3c81f37c",
   "metadata": {},
   "outputs": [],
   "source": []
  },
  {
   "cell_type": "markdown",
   "id": "672c3909",
   "metadata": {},
   "source": [
    "#### LISTS\n",
    "\n",
    "Lists are a unique data type within Python. Lists are ordered and changeable -- which means you can index a list and you can add/remove values from a list. A list is a collection of values all saved together into a single variable. Lists can contain multiple data types within a single list. All values within a list are separated by a comma. Lists are defined by square brackets. \n",
    "\n",
    "    list_name = [value1, value2, value3...]\n",
    "    \n",
    "Complete the code below to define a series of lists. "
   ]
  },
  {
   "cell_type": "code",
   "execution_count": 255,
   "id": "cb76e8cb",
   "metadata": {},
   "outputs": [
    {
     "name": "stdout",
     "output_type": "stream",
     "text": [
      "['Rose', 'Lily', 'Poppy', 'aaa', 'bbb']\n",
      "['Rose', 'Lily', 'Poppy', 'aaa', 'bbb']\n"
     ]
    }
   ],
   "source": [
    "## add two values to the following list of flowers\n",
    "# print the list\n",
    "\n",
    "flowers = [\"Rose\", \"Lily\", \"Poppy\", ]\n",
    "flowers.extend([\"aaa\", \"bbb\"])\n",
    "print(flowers)\n",
    "\n",
    "\n",
    "flowers1 = [\"Rose\", \"Lily\", \"Poppy\", ]\n",
    "flowers1.append(\"aaa\")\n",
    "flowers1.append(\"bbb\")\n",
    "print(flowers1)"
   ]
  },
  {
   "cell_type": "code",
   "execution_count": 248,
   "id": "75e5258f",
   "metadata": {},
   "outputs": [
    {
     "name": "stdout",
     "output_type": "stream",
     "text": [
      "['Jack', 'Max', 'Leo', 'Harper', 'Sam']\n"
     ]
    }
   ],
   "source": [
    "## fix the code below to define a list of names\n",
    "# print the list\n",
    "\n",
    "# names = [Jack, Max, Leo, Harper, Sam] #original\n",
    "names = [\"Jack\", \"Max\", \"Leo\", \"Harper\", \"Sam\"]\n",
    "print(names)"
   ]
  },
  {
   "cell_type": "code",
   "execution_count": 251,
   "id": "4b4faa85",
   "metadata": {},
   "outputs": [
    {
     "name": "stdout",
     "output_type": "stream",
     "text": [
      "['  ', ' ', '']\n",
      "[]\n"
     ]
    }
   ],
   "source": [
    "## use the space below to create a blank list\n",
    "# print the list to make sure its blank\n",
    "space= [\"  \",\" \",\"\"]\n",
    "space1=[]\n",
    "print(space)\n",
    "print(space1)"
   ]
  },
  {
   "cell_type": "markdown",
   "id": "baa974bd",
   "metadata": {},
   "source": [
    "#### LIST INDEXING AND SLICING\n",
    "\n",
    "Indexing a list works similarly to indexing a list - you are specifically asking to see the value within a specific location. A list index is still zero-based. See below for a list of colors. Next to each color is the index value.\n",
    "\n",
    "    colors = [red-0, yellow-1, blue-2]\n",
    "\n",
    "To index, you will state the name of your list and then within square brackets, specify the location you want to see. \n",
    "\n",
    "    colors[0] >> \"red-0\"\n",
    "    colors[1] >> \"yellow-1\"\n",
    "    colors[2] >> \"blue-2\"\n",
    "    \n",
    "Slicing a list returns a specific segment of the list instead of just returning a specific value in a specific index position. Slicing will return all the values of a list from a starting index location up to (<b>but not including</b>) an ending index location. Slicing uses square brackets and follows the pattern below:\n",
    "\n",
    "    list_name[starting point : ending point]\n",
    "    \n",
    "Slicing will literally give you a slice of the list. See below for an example using the colors list. \n",
    "\n",
    "    colors[0:2] >> red-0, yellow-1\n",
    "    colors[0:3] >> red-0, yellow-1, blue-2\n",
    "    \n",
    "1. Create a list of objects you find around your house. Have at least 6 values in the list. Print the list. \n",
    "2. What value is at position 4 in your list?\n",
    "3. What value is at position 0 in your list?\n",
    "4. Slice your list so you return all values except for the last two."
   ]
  },
  {
   "cell_type": "code",
   "execution_count": 256,
   "id": "f4416196",
   "metadata": {},
   "outputs": [
    {
     "name": "stdout",
     "output_type": "stream",
     "text": [
      "['photo', 'piano', 'stove', 'sofa', 'drawer', 'bed']\n"
     ]
    }
   ],
   "source": [
    "objects = [\"photo\" ,\"piano\", \"stove\", \"sofa\", \"drawer\", \"bed\"]\n",
    "print(objects)"
   ]
  },
  {
   "cell_type": "code",
   "execution_count": 265,
   "id": "78068227",
   "metadata": {},
   "outputs": [
    {
     "name": "stdout",
     "output_type": "stream",
     "text": [
      "drawer\n"
     ]
    }
   ],
   "source": [
    "print(objects[4])"
   ]
  },
  {
   "cell_type": "code",
   "execution_count": 266,
   "id": "7a8f7320",
   "metadata": {},
   "outputs": [
    {
     "name": "stdout",
     "output_type": "stream",
     "text": [
      "photo\n"
     ]
    }
   ],
   "source": [
    "print(objects[0])"
   ]
  },
  {
   "cell_type": "code",
   "execution_count": 267,
   "id": "80983cae",
   "metadata": {},
   "outputs": [
    {
     "name": "stdout",
     "output_type": "stream",
     "text": [
      "['photo', 'piano', 'stove', 'sofa']\n"
     ]
    }
   ],
   "source": [
    "print(objects[0:len(objects)-2])"
   ]
  },
  {
   "cell_type": "markdown",
   "id": "3c69d12a",
   "metadata": {},
   "source": [
    "#### ADDING VALUES TO A LIST\n",
    "\n",
    "Lists are changeable, which means you can add values to a list after you have defined the list initially. \n",
    "\n",
    "The .append() function will add a single value to the end of your list. This function can only add one value at a time, and it will always attach to the end. To use the function, see an example below:\n",
    "\n",
    "    list_name.append( new_item_to_add )\n",
    "    \n",
    "    colors.append(\"green-3\")\n",
    "    \n",
    "The .insert() function will add a single value to a specific index-position within your list. Unlike the append function, this means the item your adding won't automatically be attached to the end. To use the function, see an example below:\n",
    "\n",
    "    list_name.insert( index-position, new_item_to_add )\n",
    "    \n",
    "    colors.insert(0, \"green-3\")\n",
    "\n",
    "The .extend() function allows you to add multiple values to a list at one time. This is the function to use if you don't want to add values one by one. To use the function, you first have to create a separate list of the values you want to add. Then, you will use the .extend() function to add all the values on the list onto the end of the existing list. See below for an example:\n",
    "\n",
    "    new_list = [\"new_value1\", \"new_value2\", \"new_value3\"...]\n",
    "    list_name.extend( new_list )\n",
    "    \n",
    "    \n",
    "    new_colors = [\"green-3\", \"purple-4\"]\n",
    "    colors.extend(new_colors)\n",
    "    \n",
    "1. Create a list of shapes below. This list should have at least 3 values. Print the list. \n",
    "2. Use the append function to add a shape to your list. Print the list.\n",
    "3. Use the insert function to add a shape to your list. This shape should be inserted in index position 2. Print the list.\n",
    "4. Use the extend function to add 3 additional shapes to your list. Print the list. "
   ]
  },
  {
   "cell_type": "code",
   "execution_count": 275,
   "id": "bdba2f86",
   "metadata": {},
   "outputs": [],
   "source": [
    "shapes= [\"rectangle\",\"triangle\",\"circle\"]"
   ]
  },
  {
   "cell_type": "code",
   "execution_count": 276,
   "id": "baa7734e",
   "metadata": {},
   "outputs": [
    {
     "name": "stdout",
     "output_type": "stream",
     "text": [
      "['rectangle', 'triangle', 'circle', 'trapezium']\n"
     ]
    }
   ],
   "source": [
    "shapes.append(\"trapezium\")\n",
    "print(shapes)"
   ]
  },
  {
   "cell_type": "code",
   "execution_count": 277,
   "id": "7c4290e5",
   "metadata": {},
   "outputs": [
    {
     "name": "stdout",
     "output_type": "stream",
     "text": [
      "['rectangle', 'triangle', 'square', 'circle', 'trapezium']\n"
     ]
    }
   ],
   "source": [
    "shapes.insert(2,\"square\")\n",
    "print(shapes)"
   ]
  },
  {
   "cell_type": "markdown",
   "id": "3a61113f",
   "metadata": {},
   "source": [
    "# { Module 3 Quiz }\n",
    "\n",
    "1. Create 3 conditions that produce a false result. Create 3 conditions that produce a true result.\n",
    "2. Ask the user for a specific color and store the value into a variable. If the color is Blue, print \"Blue is a calming color\". If the color is Red, print \"Red is a fiery color\". Otherwise, print \"All colors are beautiful\".\n",
    "3. Create a list of 5 fictional characters. Print the list. \n",
    "4. Ask the user for a specific number between 1 and 10. If the number is less than 3, print 'low value'. If the number is greater than 7, print 'high number'. Otherwise, print 'thank you'.\n",
    "5. Create a function that determines if a student passed or failed a test. Ask the user for their test score, if the value is below 70, print 'You failed'. If the value is 70 or above, print 'You passed'. If the value is above 100 or below 0, print 'Please enter a valid number'. "
   ]
  },
  {
   "cell_type": "code",
   "execution_count": 291,
   "id": "aae6c586",
   "metadata": {},
   "outputs": [
    {
     "name": "stdout",
     "output_type": "stream",
     "text": [
      "False\n",
      "True\n"
     ]
    }
   ],
   "source": [
    "n=100\n",
    "if (n != 60 ):\n",
    "    print(False)\n",
    "elif (n != 80 ):\n",
    "    print(False)\n",
    "elif (n !=90 ):\n",
    "    print(False)\n",
    "    \n",
    "a=2\n",
    "b=3\n",
    "if (a*b ==6):\n",
    "    print(True)\n",
    "elif (a-b <0):\n",
    "    print(True)\n",
    "elif (a+b <10):\n",
    "    print(True)"
   ]
  },
  {
   "cell_type": "code",
   "execution_count": 281,
   "id": "6c34d4fd",
   "metadata": {},
   "outputs": [
    {
     "name": "stdout",
     "output_type": "stream",
     "text": [
      "Enter a color: white\n",
      "All colors are beautiful\n"
     ]
    }
   ],
   "source": [
    "color= input(\"Enter a color: \")\n",
    "if (color == 'blue'):\n",
    "    print( \"Blue is a calming color\")\n",
    "elif (color == 'red'):\n",
    "    print( \"Red is a fiery color\")\n",
    "else:\n",
    "    print( \"All colors are beautiful\")"
   ]
  },
  {
   "cell_type": "code",
   "execution_count": 282,
   "id": "492535c7",
   "metadata": {},
   "outputs": [
    {
     "name": "stdout",
     "output_type": "stream",
     "text": [
      "['w', 'e', 'f', 'd', 'p']\n"
     ]
    }
   ],
   "source": [
    "char= ['w','e','f','d','p']\n",
    "print(char)"
   ]
  },
  {
   "cell_type": "code",
   "execution_count": 286,
   "id": "8d7dda86",
   "metadata": {},
   "outputs": [
    {
     "name": "stdout",
     "output_type": "stream",
     "text": [
      "Enter a number between 1 to 10: 5\n",
      "thank you\n"
     ]
    }
   ],
   "source": [
    "num= int ( input(\"Enter a number between 1 to 10: \"))\n",
    "if (num < 3):\n",
    "    print( \"low value\")\n",
    "elif (num >7):\n",
    "    print( \"high number\")\n",
    "else:\n",
    "    print( \"thank you\")"
   ]
  },
  {
   "cell_type": "markdown",
   "id": "e637bcf4",
   "metadata": {},
   "source": [
    "## Advanced Review\n",
    "\n",
    "Complete the exercises below. These exercises cover topics from all the modules covered in the class thus far, not just the items reviewed in this notebook. Each exercise should be completed in its own cell (or multiple cells). \n",
    "\n",
    "*****************************\n",
    "\n",
    "1.\tCreate a program that asks the user to enter their name and their age. Print out a message addressed to them that tells them the year that they will turn 100 years old.\n",
    "2.\tAsk the user for a number. Depending on whether the number is even or odd, print out an appropriate message to the user.\n",
    "3.\tTake a list and write a program that prints out all the elements of the list that are less than 5. BONUS: Instead of printing the elements one by one, make a new list that has all the elements less than 5 from this list in it and print out this new list.\n",
    "4.\tGenerate a random number between 1 and 9 (including 1 and 9). Ask the user to guess the number, then tell them whether they guessed too low, too high, or exactly right. BONUS: Keep the game going until the user types “exit”\n",
    "5.\tWrite a program that takes a list of numbers (for example, a = [5, 10, 15, 20, 25]) and makes a new list of only the first and last elements of the given list.\n",
    "6.\tWrite a password generator in Python. Be creative with how you generate passwords - strong passwords have a mix of lowercase letters, uppercase letters, numbers, and symbols. The passwords should be random, generating a new password every time the user asks for a new password.\n"
   ]
  },
  {
   "cell_type": "code",
   "execution_count": 293,
   "id": "1a5c1f95",
   "metadata": {},
   "outputs": [
    {
     "name": "stdout",
     "output_type": "stream",
     "text": [
      "Enter your name please: JJ\n",
      "Enter your age plese: 2\n",
      "Name: JJ\n",
      "Age: 2\n",
      "The year turn 100 years old: 2119 \n"
     ]
    }
   ],
   "source": [
    "#1\n",
    "name= input(\"Enter your name please: \")\n",
    "age= int (input (\"Enter your age plese: \"))\n",
    "yearTo100= 2021 + (100- age)\n",
    "print (f\"Name: {name}\\nAge: {age}\\nThe year turn 100 years old: {yearTo100} \")"
   ]
  },
  {
   "cell_type": "code",
   "execution_count": 325,
   "id": "71253269",
   "metadata": {},
   "outputs": [
    {
     "name": "stdout",
     "output_type": "stream",
     "text": [
      "Give me a number please:-9\n",
      "odd\n"
     ]
    }
   ],
   "source": [
    "#2\n",
    "n = int (input (\"Give me a number please:\"))\n",
    "if (n %2 ==0):\n",
    "    print(\"even\")\n",
    "elif (n %2 ==1):\n",
    "    print(\"odd\")"
   ]
  },
  {
   "cell_type": "code",
   "execution_count": 334,
   "id": "bedda0d3",
   "metadata": {},
   "outputs": [
    {
     "name": "stdout",
     "output_type": "stream",
     "text": [
      "[3, 4, 2]\n"
     ]
    }
   ],
   "source": [
    "#3\n",
    "target=5\n",
    "numLess5=[]\n",
    "list= [3,10,4,89,2]\n",
    "for i in range (0, len(list)):\n",
    "    if (list[i]< target):\n",
    "        numLess5.append (list[i])\n",
    "print(numLess5)\n"
   ]
  },
  {
   "cell_type": "code",
   "execution_count": 358,
   "id": "a9bfd4fe",
   "metadata": {},
   "outputs": [
    {
     "name": "stdout",
     "output_type": "stream",
     "text": [
      "Guess the random number: 1\n",
      "Your guess is too low.\n",
      "Guess the random number. Type 'exit' to quit 9\n",
      "Your guess is too high.\n",
      "Guess the random number. Type 'exit' to quit 8\n",
      "Your guess is too high.\n",
      "Guess the random number. Type 'exit' to quit exit\n",
      "Goodbye\n"
     ]
    }
   ],
   "source": [
    "#4\n",
    "import random as r\n",
    "numb= r.randint (1,9)\n",
    "n= str(numb)\n",
    "guess= input (\"Guess the random number: \")\n",
    "\n",
    "   \n",
    "while ( guess != n):\n",
    "    if (guess< n):\n",
    "        print(\"Your guess is too low.\")\n",
    "    elif (guess > n):\n",
    "        print( \"Your guess is too high.\")\n",
    "        \n",
    "    guess= input(\"Guess the random number. Type 'exit' to quit \")\n",
    "    if (guess == \"exit\"):\n",
    "        print(\"Goodbye\")\n",
    "        break  \n",
    "\n",
    "if(guess== n):\n",
    "    print(\"Right!\")\n",
    "    \n",
    "\n",
    "   "
   ]
  },
  {
   "cell_type": "code",
   "execution_count": 361,
   "id": "371e724b",
   "metadata": {},
   "outputs": [
    {
     "name": "stdout",
     "output_type": "stream",
     "text": [
      "Enter a number for creating a list: 1\n",
      "Enter a number for creating a list: 2\n",
      "Enter a number for creating a list: 3\n",
      "Enter a number for creating a list: 4\n",
      "Enter a number for creating a list: 5\n",
      "1\n",
      "5\n"
     ]
    }
   ],
   "source": [
    "#5\n",
    "numList= []\n",
    "length= 6\n",
    "for i in range (1, length):\n",
    "    num= int (input( \"Enter a number for creating a list: \"))\n",
    "    numList. append (num)\n",
    "\n",
    "print(\"The first element is: \",numList[0])\n",
    "print(\"The last element is: \",numList[length-2])"
   ]
  },
  {
   "cell_type": "code",
   "execution_count": 418,
   "id": "18d92689",
   "metadata": {},
   "outputs": [
    {
     "name": "stdout",
     "output_type": "stream",
     "text": [
      "Ask a fixed password? 'yes' or 'no'yes\n",
      "[97, 42, 69, 57, 75, 88, 121]\n",
      "symbol  42\n",
      "upper  69\n",
      "number  57\n",
      "upper  75\n",
      "upper  88\n",
      "The password is:  ['a', '*', 'E', 57, 'K', 'X', 'y', \"'\", 'Z', 'v']\n",
      "Continue to ask a password? 'yes' or 'no'no\n"
     ]
    }
   ],
   "source": [
    "#6  create a fixed password that has at least one uppercase, one symbol, and one number\n",
    "import random as r \n",
    "\n",
    "\n",
    "answer= input(\"Ask a fixed password? 'yes' or 'no'\")\n",
    "\n",
    "\n",
    "while (answer == \"yes\") :\n",
    "    rNum=[]\n",
    "    while (len(rNum)< 7):   # random 6 numbers for password 6 digits \n",
    "        n= r.randint(33,122)\n",
    "        rNum. append(n)\n",
    "    #print(rNum)\n",
    "    \n",
    "    upper = 0\n",
    "    symbol = 0\n",
    "    num=0\n",
    "    for item in rNum:\n",
    "        if ((item >=65) and (item <=90)):   # mark if there is a uppercase ASCII code in list\n",
    "            upper +=1\n",
    "            #print(\"upper \" ,item)\n",
    "        elif ((item >=33) and (item <=47)):  # mark if there is a symbol ASCII code in list\n",
    "            symbol +=1\n",
    "            #print(\"symbol \",item)\n",
    "        elif ((item >=48) and (item <=57)):  # mark if there is a number ASCII code in list\n",
    "            num +=1\n",
    "            #print(\"number \",item)\n",
    "            \n",
    "    if (upper< 1):                          # make sure there is a uppercase letter and random another 2 digit code\n",
    "        nUpper= r.randint(65,90)\n",
    "        rNum.append (nUpper)\n",
    "    else:\n",
    "        rNum.append (r.randint(33,122))     \n",
    "        \n",
    "    if (symbol <1):                        # make sure there is a symbol and random another 2 digit code\n",
    "        uSymbol =r.randint (33,47)\n",
    "        rNum.append (uSymbol)\n",
    "    else:\n",
    "        rNum.append (r.randint(33,126))\n",
    "        \n",
    "    if (num< 1):                          # make sure there is a number letter and random another 2 digit code\n",
    "        nNN= r.randint(65,90)\n",
    "        rNum.append (nNN)\n",
    "    else:\n",
    "        rNum.append (r.randint(33,122))  \n",
    "    \n",
    "    for i in range(0, len(rNum)):        # convert any character and symbol into a char\n",
    "        if (rNum[i] >=65 and rNum[i]<=122 ) or (rNum[i]>=33 and rNum[i]<=47 ):\n",
    "            rNum[i] = chr (rNum[i])\n",
    "    password= rNum\n",
    "    print(\"The password is: \", password)\n",
    "    answer= input(\"Continue to ask a password? 'yes' or 'no'\")"
   ]
  },
  {
   "cell_type": "code",
   "execution_count": null,
   "id": "449f7a2d",
   "metadata": {},
   "outputs": [],
   "source": []
  },
  {
   "cell_type": "code",
   "execution_count": 417,
   "id": "7293a448",
   "metadata": {},
   "outputs": [
    {
     "name": "stdout",
     "output_type": "stream",
     "text": [
      "<class 'str'>\n",
      "[1, 'c']\n"
     ]
    }
   ],
   "source": [
    "list=[1,\"c\"]\n",
    "a= str(list)\n",
    "print(type(a))\n",
    "print(a)"
   ]
  },
  {
   "cell_type": "code",
   "execution_count": null,
   "id": "9ccb7240",
   "metadata": {},
   "outputs": [],
   "source": []
  }
 ],
 "metadata": {
  "kernelspec": {
   "display_name": "Python 3",
   "language": "python",
   "name": "python3"
  },
  "language_info": {
   "codemirror_mode": {
    "name": "ipython",
    "version": 3
   },
   "file_extension": ".py",
   "mimetype": "text/x-python",
   "name": "python",
   "nbconvert_exporter": "python",
   "pygments_lexer": "ipython3",
   "version": "3.8.8"
  }
 },
 "nbformat": 4,
 "nbformat_minor": 5
}
