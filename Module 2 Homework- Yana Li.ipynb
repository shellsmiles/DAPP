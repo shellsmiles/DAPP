{
 "cells": [
  {
   "cell_type": "markdown",
   "id": "c209b646",
   "metadata": {},
   "source": [
    "### Homework #2"
   ]
  },
  {
   "cell_type": "markdown",
   "id": "869ebfd6",
   "metadata": {},
   "source": [
    "1. Round 4.5667 to the nearest hundreth (2 decimals) using a build-in function, round()."
   ]
  },
  {
   "cell_type": "code",
   "execution_count": 1,
   "id": "123658aa",
   "metadata": {},
   "outputs": [
    {
     "data": {
      "text/plain": [
       "4.57"
      ]
     },
     "execution_count": 1,
     "metadata": {},
     "output_type": "execute_result"
    }
   ],
   "source": [
    "round(4.5667,2)"
   ]
  },
  {
   "cell_type": "markdown",
   "id": "9d3f352c",
   "metadata": {},
   "source": [
    "2. Convert \"657\" to an integer data type"
   ]
  },
  {
   "cell_type": "code",
   "execution_count": 2,
   "id": "d5a67683",
   "metadata": {},
   "outputs": [
    {
     "data": {
      "text/plain": [
       "657"
      ]
     },
     "execution_count": 2,
     "metadata": {},
     "output_type": "execute_result"
    }
   ],
   "source": [
    "int(\"657\")"
   ]
  },
  {
   "cell_type": "markdown",
   "id": "a36f06d4",
   "metadata": {},
   "source": [
    "3. Write a program to get two numbers from a user. Then, create a 6-digit code that is a series of randomly generated numbers between the two numbers given by the user. Print the 6-digit code so all digits are separated by a dash. "
   ]
  },
  {
   "cell_type": "code",
   "execution_count": null,
   "id": "021c92d4",
   "metadata": {},
   "outputs": [],
   "source": [
    "n1= int(input(\"Enter a number: \"))\n",
    "n2= int(input(\"Enter a number: \"))\n",
    "\n",
    "import random as rand\n",
    "r1= rand.randint (n1, n2)\n",
    "r2= rand.randint (n1, n2)\n",
    "r3= rand.randint (n1, n2)\n",
    "r4= rand.randint (n1, n2)\n",
    "r5= rand.randint (n1, n2)\n",
    "r6= rand.randint (n1, n2)\n",
    "\n",
    "print(f\"The 6-digit code is: {r1}-{r2}-{r3}-{r4}-{r5}-{r6}\")"
   ]
  },
  {
   "cell_type": "markdown",
   "id": "ee1441a1",
   "metadata": {},
   "source": [
    "4. Write a program to remove ALL the white spaces from the following text:\n",
    "\n",
    "        Hickory, dickory, dock,     \n",
    "        The mouse ran up the clock.   \n",
    "        The clock struck one,   \n",
    "        The mouse ran down,                      \n",
    "        Hickory, dickory, dock                  "
   ]
  },
  {
   "cell_type": "code",
   "execution_count": 4,
   "id": "8bf680f1",
   "metadata": {},
   "outputs": [],
   "source": [
    "l1= \" Hickory, dickory, dock,     \"\n",
    "l2= \" The mouse ran up the clock.   \"\n",
    "l3= \"  The clock struck one,   \"\n",
    "l4= \" The mouse ran down,        \"\n",
    "l5= \" Hickory, dickory, dock                  \""
   ]
  },
  {
   "cell_type": "code",
   "execution_count": 5,
   "id": "59d9c718",
   "metadata": {},
   "outputs": [],
   "source": [
    "l1= l1.strip()\n",
    "l2= l2.strip()\n",
    "l3= l3.strip()\n",
    "l4= l4.strip()\n",
    "l5= l5.strip()"
   ]
  },
  {
   "cell_type": "code",
   "execution_count": 6,
   "id": "11c24618",
   "metadata": {},
   "outputs": [
    {
     "name": "stdout",
     "output_type": "stream",
     "text": [
      "Hickory,dickory,dock,\n",
      "Themouseranuptheclock.\n",
      "Theclockstruckone,\n",
      "Themouserandown,\n",
      "Hickory,dickory,dock\n"
     ]
    }
   ],
   "source": [
    "l1= l1.replace(\" \",\"\")\n",
    "l2= l2.replace(\" \",\"\")\n",
    "l3= l3.replace(\" \",\"\")\n",
    "l4= l4.replace(\" \",\"\")\n",
    "l5= l5.replace(\" \",\"\")\n",
    "\n",
    "print(l1)\n",
    "print(l2)\n",
    "print(l3)\n",
    "print(l4)\n",
    "print(l5)"
   ]
  },
  {
   "cell_type": "markdown",
   "id": "72d87b5b",
   "metadata": {},
   "source": [
    "5. Write a function to calculate the miles per gallon. Get a miles driven and gallons used from a user and call your function to calculate the miles per gallon."
   ]
  },
  {
   "cell_type": "code",
   "execution_count": 9,
   "id": "27be7372",
   "metadata": {},
   "outputs": [
    {
     "name": "stdout",
     "output_type": "stream",
     "text": [
      "The number of miles used:49\n",
      "The number of gallons used: 3\n",
      "Miles per gallon is 16.333333333333332\n"
     ]
    }
   ],
   "source": [
    "def mPerG (m, g):\n",
    "    return print(\"Miles per gallon is\" , m/g)\n",
    "\n",
    "mile= int(input(\"The number of miles used:\"))\n",
    "gallon= int(input(\"The number of gallons used: \"))\n",
    "mPerG(mile, gallon)"
   ]
  },
  {
   "cell_type": "markdown",
   "id": "1f3942b8",
   "metadata": {},
   "source": [
    "6. Enhance the <b>compute()</b> function created during Module 2. Enhance the function to compute a circle's area and circumference where:\n",
    "\n",
    " - circle's area = 3.14 X (radius X radius)   \n",
    " - circle's circumference = 3.14 X diameter"
   ]
  },
  {
   "cell_type": "code",
   "execution_count": 45,
   "id": "df43daca",
   "metadata": {},
   "outputs": [],
   "source": [
    "def area (r, p):\n",
    "    print(f\"The circle's area is {r*r* p}\")\n",
    "    circumference (r,p)\n",
    "    \n",
    "def circumference (r,p):\n",
    "    print(f\"The circle's circumference is {r*2* p}\")"
   ]
  },
  {
   "cell_type": "code",
   "execution_count": 46,
   "id": "fa8de89a",
   "metadata": {},
   "outputs": [
    {
     "name": "stdout",
     "output_type": "stream",
     "text": [
      "Enter a radius of a circle: 4\n",
      "The circle's area is 50.24\n",
      "The circle's circumference is 25.12\n"
     ]
    }
   ],
   "source": [
    "radius= float(input (\"Enter a radius of a circle: \"))\n",
    "pi= 3.14\n",
    "area (radius, pi)"
   ]
  },
  {
   "cell_type": "markdown",
   "id": "4c5d83bb",
   "metadata": {},
   "source": [
    "7. Write a function called multiply_two() that accepts two parameters. The function should print a message like '15 * 2 = 30'.  Randomly generate two numbers between 1 and 100, then call the function with the two random numbers."
   ]
  },
  {
   "cell_type": "code",
   "execution_count": 43,
   "id": "fe5ca2dc",
   "metadata": {},
   "outputs": [],
   "source": [
    "def multiply_two (n1,n2):\n",
    "    print (f\"{n1} * {n2} = {n1*n2}\")"
   ]
  },
  {
   "cell_type": "code",
   "execution_count": 44,
   "id": "9f83774c",
   "metadata": {},
   "outputs": [
    {
     "name": "stdout",
     "output_type": "stream",
     "text": [
      "29 * 54 = 1566\n"
     ]
    }
   ],
   "source": [
    "import random as r\n",
    "num1= r.randint(1,100)\n",
    "num2= r.randint(1,100)\n",
    "multiply_two (num1,num2)"
   ]
  },
  {
   "cell_type": "markdown",
   "id": "36865477",
   "metadata": {},
   "source": [
    "8. Create a function for a multiplication table.  Get a number from a user and then call you function which produces a multiplication table for that number.\n",
    "The output should look something like this:\n",
    "\n",
    "        Enter a number: 3\n",
    "        3 X 1 = 3\n",
    "        3 X 2 = 6\n",
    "        3 X 3 = 9\n",
    "        3 X 4 = 12\n",
    "        3 X 5 = 15\n",
    "        3 X 6 = 18\n",
    "        3 X 7 = 21\n",
    "        3 X 8 = 24\n",
    "        3 X 9 = 27"
   ]
  },
  {
   "cell_type": "code",
   "execution_count": 31,
   "id": "b023e863",
   "metadata": {},
   "outputs": [],
   "source": [
    "def multiplication(n):\n",
    "    print(f\"{n} * 1 = {n*1}\")\n",
    "    print(f\"{n} * 2 = {n*2}\")\n",
    "    print(f\"{n} * 3 = {n*3}\")\n",
    "    print(f\"{n} * 4 = {n*4}\")\n",
    "    print(f\"{n} * 5 = {n*5}\")\n",
    "    print(f\"{n} * 6 = {n*6}\")\n",
    "    print(f\"{n} * 7 = {n*7}\")\n",
    "    print(f\"{n} * 8 = {n*8}\")\n",
    "    print(f\"{n} * 9 = {n*9}\")"
   ]
  },
  {
   "cell_type": "code",
   "execution_count": 32,
   "id": "563c8445",
   "metadata": {},
   "outputs": [
    {
     "name": "stdout",
     "output_type": "stream",
     "text": [
      "Enter a number: 3\n",
      "3 * 1 = 3\n",
      "3 * 2 = 6\n",
      "3 * 3 = 9\n",
      "3 * 4 = 12\n",
      "3 * 5 = 15\n",
      "3 * 6 = 18\n",
      "3 * 7 = 21\n",
      "3 * 8 = 24\n",
      "3 * 9 = 27\n"
     ]
    }
   ],
   "source": [
    "n= int (input(\"Enter a number: \"))\n",
    "multiplication(n)"
   ]
  },
  {
   "cell_type": "code",
   "execution_count": null,
   "id": "722eefc3",
   "metadata": {},
   "outputs": [],
   "source": []
  }
 ],
 "metadata": {
  "kernelspec": {
   "display_name": "Python 3",
   "language": "python",
   "name": "python3"
  },
  "language_info": {
   "codemirror_mode": {
    "name": "ipython",
    "version": 3
   },
   "file_extension": ".py",
   "mimetype": "text/x-python",
   "name": "python",
   "nbconvert_exporter": "python",
   "pygments_lexer": "ipython3",
   "version": "3.8.8"
  }
 },
 "nbformat": 4,
 "nbformat_minor": 5
}
