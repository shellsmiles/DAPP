{
 "cells": [
  {
   "cell_type": "markdown",
   "metadata": {},
   "source": [
    "### Exercise 1\n",
    "Ask a user for 5 names and place each one in to a list called <i>names</i>. Then, print <i>names</i>."
   ]
  },
  {
   "cell_type": "code",
   "execution_count": 5,
   "metadata": {},
   "outputs": [
    {
     "name": "stdout",
     "output_type": "stream",
     "text": [
      "Enter a name:aa\n",
      "Enter a name:bb\n",
      "Enter a name:c\n",
      "Enter a name:dd\n",
      "Enter a name:ee\n",
      "['aa', 'bb', 'c', 'dd', 'ee']\n"
     ]
    }
   ],
   "source": [
    "names=[]\n",
    "names.append(input(\"Enter a name:\"))\n",
    "names.append(input(\"Enter a name:\"))\n",
    "names.append(input(\"Enter a name:\"))\n",
    "names.append(input(\"Enter a name:\"))\n",
    "names.append(input(\"Enter a name:\"))\n",
    "print(names)"
   ]
  },
  {
   "cell_type": "markdown",
   "metadata": {},
   "source": [
    "### Exercise 2\n",
    "Print out a randomly selected name in the names list."
   ]
  },
  {
   "cell_type": "code",
   "execution_count": 6,
   "metadata": {},
   "outputs": [
    {
     "name": "stdout",
     "output_type": "stream",
     "text": [
      "aa\n"
     ]
    }
   ],
   "source": [
    "import random as rand\n",
    "i= rand. randint (0, 4)\n",
    "print(names[i])"
   ]
  },
  {
   "cell_type": "markdown",
   "metadata": {},
   "source": [
    "### Exercise 3\n",
    "\n",
    "Ask a user for a specific color and store that value into a variable. If the answer is gray, print \"You found Victor's favorite color!\". If the answer is anything besides gray, print \"[color name] is not Victor's favorite color.\""
   ]
  },
  {
   "cell_type": "code",
   "execution_count": 14,
   "metadata": {},
   "outputs": [
    {
     "name": "stdout",
     "output_type": "stream",
     "text": [
      "Please give me a color:white\n",
      "white is not Victor's favorite color.\n"
     ]
    }
   ],
   "source": [
    "color= input(\"Please give me a color:\")\n",
    "if color== \"gray\":\n",
    "    print(\"You found Virtor's favorite color!\")\n",
    "else:\n",
    "    print(f\"{color} is not Victor's favorite color.\")"
   ]
  },
  {
   "cell_type": "markdown",
   "metadata": {},
   "source": [
    "### Exercise 4\n",
    "Ask for an exam score and store that number. If the number is greater than 100, then print out 'You cannot have an exam score higher than 100'. If the number doesn't exceeed 100 but is greater than or equal to 75, then print out 'You did great on your exam!'. Otherwise if they scored lower than 75, then print out 'You need to study harder'."
   ]
  },
  {
   "cell_type": "code",
   "execution_count": 22,
   "metadata": {},
   "outputs": [
    {
     "name": "stdout",
     "output_type": "stream",
     "text": [
      "Enter an exam score:75\n",
      "You did great on your exam!\n"
     ]
    }
   ],
   "source": [
    "score= int(input('Enter an exam score:'))\n",
    "if score>100:\n",
    "    print(\"You cannot have an exam score higher than 100\")\n",
    "if score>=75:\n",
    "    print('You did great on your exam!')\n",
    "else:\n",
    "    print('You need to study harder.')"
   ]
  },
  {
   "cell_type": "markdown",
   "metadata": {},
   "source": [
    "### Exercise 5\n",
    "Write a function to convert a test score to a grade where  \n",
    " - 90 - 100: A\n",
    " - 80 - 89:  B\n",
    " - 70 - 79:  C\n",
    " - 60 - 69:  D\n",
    " - < 60   :  F\n",
    " \n",
    "If a score is not between 0 and 100 then print out an error message. In the program, ask the user for a score and then call your function. "
   ]
  },
  {
   "cell_type": "code",
   "execution_count": 29,
   "metadata": {},
   "outputs": [
    {
     "name": "stdout",
     "output_type": "stream",
     "text": [
      "Give me a score:101\n",
      "Error! Score need to be between 0 and 100.\n"
     ]
    }
   ],
   "source": [
    "def scorecheck (score): \n",
    "\n",
    "    if score>100 or score<0:\n",
    "        print(\"Error! Score need to be between 0 and 100.\")\n",
    "    elif score >=90:\n",
    "        print(\"A\")\n",
    "    elif score >=80:\n",
    "        print(\"B\")\n",
    "    elif score >=70:\n",
    "        print(\"C\")\n",
    "    elif score >=60:\n",
    "        print(\"D\")\n",
    "    elif score <60:\n",
    "        print(\"F\")\n",
    "\n",
    "s= int(input(\"Give me a score:\"))\n",
    "\n",
    "scorecheck (s)\n"
   ]
  },
  {
   "cell_type": "code",
   "execution_count": null,
   "metadata": {},
   "outputs": [],
   "source": []
  },
  {
   "cell_type": "code",
   "execution_count": null,
   "metadata": {},
   "outputs": [],
   "source": []
  },
  {
   "cell_type": "code",
   "execution_count": null,
   "metadata": {},
   "outputs": [],
   "source": []
  }
 ],
 "metadata": {
  "kernelspec": {
   "display_name": "Python 3",
   "language": "python",
   "name": "python3"
  },
  "language_info": {
   "codemirror_mode": {
    "name": "ipython",
    "version": 3
   },
   "file_extension": ".py",
   "mimetype": "text/x-python",
   "name": "python",
   "nbconvert_exporter": "python",
   "pygments_lexer": "ipython3",
   "version": "3.8.8"
  }
 },
 "nbformat": 4,
 "nbformat_minor": 4
}
